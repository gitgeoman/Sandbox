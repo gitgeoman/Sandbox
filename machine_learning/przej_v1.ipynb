{
 "cells": [
  {
   "cell_type": "code",
   "execution_count": 10,
   "outputs": [
    {
     "name": "stdout",
     "output_type": "stream",
     "text": [
      "^C\n"
     ]
    }
   ],
   "source": [
    "!pip install autokeras"
   ],
   "metadata": {
    "collapsed": false,
    "pycharm": {
     "name": "#%%\n"
    }
   }
  },
  {
   "cell_type": "code",
   "execution_count": 15,
   "outputs": [],
   "source": [
    "import pandas as pd\n",
    "import tensorflow as tf\n",
    "import teller as tr\n",
    "from sklearn.preprocessing import MinMaxScaler\n",
    "from sklearn.model_selection import train_test_split\n",
    "# from autokeras import StructuredDataRegressor\n",
    "import matplotlib.pyplot as plt\n",
    "import seaborn as sns\n",
    "%matplotlib inline\n",
    "import seaborn as sns\n",
    "import missingno as msno"
   ],
   "metadata": {
    "collapsed": false,
    "pycharm": {
     "name": "#%%\n"
    }
   }
  },
  {
   "cell_type": "code",
   "execution_count": 17,
   "outputs": [
    {
     "data": {
      "text/plain": "          id  name  cropa_aft  crevicea_aft  crevicel_lft  crossp_pft  \\\n0         91   NaN        0.0           0.0           0.0         0.0   \n1        268   NaN        0.0           0.0           0.0         0.0   \n2       7425   NaN        0.0           0.0           0.0         0.0   \n3        143   NaN        0.0           0.0           0.0         0.0   \n4       1990   NaN        0.0           0.0           0.0         0.0   \n...      ...   ...        ...           ...           ...         ...   \n12059  11887   NaN        0.0           0.0           0.0         0.0   \n12060  11891   NaN        0.0           0.0           0.0         0.0   \n12061  11930   NaN        0.0           0.0           0.0         0.0   \n12062  11946   NaN        0.0           0.0           0.0         0.0   \n12063  11960   NaN        0.0           0.0           0.0         0.0   \n\n       ctowerp_pft  ctrlpntp_pft    admarea_aft  admbndl_lft  ...  srtm_swiat  \\\n0              0.0           0.0  251311.258476     0.000000  ...  132.466667   \n1              0.0           0.0  251202.373658     0.000000  ...  159.511111   \n2              0.0           0.0  249976.815207     0.000000  ...  156.222222   \n3              0.0           0.0  251277.422141     0.000000  ...  139.488889   \n4              0.0           0.0  250903.067780   121.386969  ...  158.260000   \n...            ...           ...            ...          ...  ...         ...   \n12059          0.0           1.0  248883.714798     0.000000  ...  195.280000   \n12060          0.0           0.0  248886.820619     0.000000  ...  183.955556   \n12061          0.0           0.0  248822.744207     0.000000  ...  255.533333   \n12062          0.0           0.0  248789.817811   549.327670  ...  247.462963   \n12063          0.0           0.0  248800.172353     0.000000  ...  213.148148   \n\n       srtm_swiat_spadek  odl0roadl_lft  odl0foresta_aft  odl0builtupa_aft  \\\n0               0.822222            NaN              NaN               NaN   \n1               0.660000            NaN              NaN               NaN   \n2               1.425926            NaN              NaN               NaN   \n3               0.933333            NaN              NaN               NaN   \n4               2.333333            NaN              NaN               NaN   \n...                  ...            ...              ...               ...   \n12059           3.183333            NaN              NaN               NaN   \n12060           2.648148            NaN              NaN               NaN   \n12061           1.518519            NaN              NaN               NaN   \n12062           3.333333            NaN              NaN               NaN   \n12063           3.088889            NaN              NaN               NaN   \n\n       odl0railrdl_lft  odl0farmp_pft  przej_wsp_nie_norm  przej_wsp_norm  \\\n0                  NaN            NaN            0.470619        0.854848   \n1                  NaN            NaN            0.479328        0.950551   \n2                  NaN            NaN            0.495441        0.824066   \n3                  NaN            NaN            0.500422        0.823867   \n4                  NaN            NaN           -0.848647        0.455641   \n...                ...            ...                 ...             ...   \n12059              NaN            NaN            0.493784        0.839454   \n12060              NaN            NaN            0.501386        0.836371   \n12061              NaN            NaN            0.498662        0.854181   \n12062              NaN            NaN           -0.288820        0.540472   \n12063              NaN            NaN            0.454667        0.805575   \n\n                                                geometry  \n0      b'\\x01\\x03\\x00\\x00\\x00\\x01\\x00\\x00\\x00\\x05\\x00...  \n1      b'\\x01\\x03\\x00\\x00\\x00\\x01\\x00\\x00\\x00\\x05\\x00...  \n2      b'\\x01\\x03\\x00\\x00\\x00\\x01\\x00\\x00\\x00\\x05\\x00...  \n3      b'\\x01\\x03\\x00\\x00\\x00\\x01\\x00\\x00\\x00\\x05\\x00...  \n4      b'\\x01\\x03\\x00\\x00\\x00\\x01\\x00\\x00\\x00\\x05\\x00...  \n...                                                  ...  \n12059  b'\\x01\\x03\\x00\\x00\\x00\\x01\\x00\\x00\\x00\\x05\\x00...  \n12060  b'\\x01\\x03\\x00\\x00\\x00\\x01\\x00\\x00\\x00\\x05\\x00...  \n12061  b'\\x01\\x03\\x00\\x00\\x00\\x01\\x00\\x00\\x00\\x05\\x00...  \n12062  b'\\x01\\x03\\x00\\x00\\x00\\x01\\x00\\x00\\x00\\x05\\x00...  \n12063  b'\\x01\\x03\\x00\\x00\\x00\\x01\\x00\\x00\\x00\\x05\\x00...  \n\n[12064 rows x 228 columns]",
      "text/html": "<div>\n<style scoped>\n    .dataframe tbody tr th:only-of-type {\n        vertical-align: middle;\n    }\n\n    .dataframe tbody tr th {\n        vertical-align: top;\n    }\n\n    .dataframe thead th {\n        text-align: right;\n    }\n</style>\n<table border=\"1\" class=\"dataframe\">\n  <thead>\n    <tr style=\"text-align: right;\">\n      <th></th>\n      <th>id</th>\n      <th>name</th>\n      <th>cropa_aft</th>\n      <th>crevicea_aft</th>\n      <th>crevicel_lft</th>\n      <th>crossp_pft</th>\n      <th>ctowerp_pft</th>\n      <th>ctrlpntp_pft</th>\n      <th>admarea_aft</th>\n      <th>admbndl_lft</th>\n      <th>...</th>\n      <th>srtm_swiat</th>\n      <th>srtm_swiat_spadek</th>\n      <th>odl0roadl_lft</th>\n      <th>odl0foresta_aft</th>\n      <th>odl0builtupa_aft</th>\n      <th>odl0railrdl_lft</th>\n      <th>odl0farmp_pft</th>\n      <th>przej_wsp_nie_norm</th>\n      <th>przej_wsp_norm</th>\n      <th>geometry</th>\n    </tr>\n  </thead>\n  <tbody>\n    <tr>\n      <th>0</th>\n      <td>91</td>\n      <td>NaN</td>\n      <td>0.0</td>\n      <td>0.0</td>\n      <td>0.0</td>\n      <td>0.0</td>\n      <td>0.0</td>\n      <td>0.0</td>\n      <td>251311.258476</td>\n      <td>0.000000</td>\n      <td>...</td>\n      <td>132.466667</td>\n      <td>0.822222</td>\n      <td>NaN</td>\n      <td>NaN</td>\n      <td>NaN</td>\n      <td>NaN</td>\n      <td>NaN</td>\n      <td>0.470619</td>\n      <td>0.854848</td>\n      <td>b'\\x01\\x03\\x00\\x00\\x00\\x01\\x00\\x00\\x00\\x05\\x00...</td>\n    </tr>\n    <tr>\n      <th>1</th>\n      <td>268</td>\n      <td>NaN</td>\n      <td>0.0</td>\n      <td>0.0</td>\n      <td>0.0</td>\n      <td>0.0</td>\n      <td>0.0</td>\n      <td>0.0</td>\n      <td>251202.373658</td>\n      <td>0.000000</td>\n      <td>...</td>\n      <td>159.511111</td>\n      <td>0.660000</td>\n      <td>NaN</td>\n      <td>NaN</td>\n      <td>NaN</td>\n      <td>NaN</td>\n      <td>NaN</td>\n      <td>0.479328</td>\n      <td>0.950551</td>\n      <td>b'\\x01\\x03\\x00\\x00\\x00\\x01\\x00\\x00\\x00\\x05\\x00...</td>\n    </tr>\n    <tr>\n      <th>2</th>\n      <td>7425</td>\n      <td>NaN</td>\n      <td>0.0</td>\n      <td>0.0</td>\n      <td>0.0</td>\n      <td>0.0</td>\n      <td>0.0</td>\n      <td>0.0</td>\n      <td>249976.815207</td>\n      <td>0.000000</td>\n      <td>...</td>\n      <td>156.222222</td>\n      <td>1.425926</td>\n      <td>NaN</td>\n      <td>NaN</td>\n      <td>NaN</td>\n      <td>NaN</td>\n      <td>NaN</td>\n      <td>0.495441</td>\n      <td>0.824066</td>\n      <td>b'\\x01\\x03\\x00\\x00\\x00\\x01\\x00\\x00\\x00\\x05\\x00...</td>\n    </tr>\n    <tr>\n      <th>3</th>\n      <td>143</td>\n      <td>NaN</td>\n      <td>0.0</td>\n      <td>0.0</td>\n      <td>0.0</td>\n      <td>0.0</td>\n      <td>0.0</td>\n      <td>0.0</td>\n      <td>251277.422141</td>\n      <td>0.000000</td>\n      <td>...</td>\n      <td>139.488889</td>\n      <td>0.933333</td>\n      <td>NaN</td>\n      <td>NaN</td>\n      <td>NaN</td>\n      <td>NaN</td>\n      <td>NaN</td>\n      <td>0.500422</td>\n      <td>0.823867</td>\n      <td>b'\\x01\\x03\\x00\\x00\\x00\\x01\\x00\\x00\\x00\\x05\\x00...</td>\n    </tr>\n    <tr>\n      <th>4</th>\n      <td>1990</td>\n      <td>NaN</td>\n      <td>0.0</td>\n      <td>0.0</td>\n      <td>0.0</td>\n      <td>0.0</td>\n      <td>0.0</td>\n      <td>0.0</td>\n      <td>250903.067780</td>\n      <td>121.386969</td>\n      <td>...</td>\n      <td>158.260000</td>\n      <td>2.333333</td>\n      <td>NaN</td>\n      <td>NaN</td>\n      <td>NaN</td>\n      <td>NaN</td>\n      <td>NaN</td>\n      <td>-0.848647</td>\n      <td>0.455641</td>\n      <td>b'\\x01\\x03\\x00\\x00\\x00\\x01\\x00\\x00\\x00\\x05\\x00...</td>\n    </tr>\n    <tr>\n      <th>...</th>\n      <td>...</td>\n      <td>...</td>\n      <td>...</td>\n      <td>...</td>\n      <td>...</td>\n      <td>...</td>\n      <td>...</td>\n      <td>...</td>\n      <td>...</td>\n      <td>...</td>\n      <td>...</td>\n      <td>...</td>\n      <td>...</td>\n      <td>...</td>\n      <td>...</td>\n      <td>...</td>\n      <td>...</td>\n      <td>...</td>\n      <td>...</td>\n      <td>...</td>\n      <td>...</td>\n    </tr>\n    <tr>\n      <th>12059</th>\n      <td>11887</td>\n      <td>NaN</td>\n      <td>0.0</td>\n      <td>0.0</td>\n      <td>0.0</td>\n      <td>0.0</td>\n      <td>0.0</td>\n      <td>1.0</td>\n      <td>248883.714798</td>\n      <td>0.000000</td>\n      <td>...</td>\n      <td>195.280000</td>\n      <td>3.183333</td>\n      <td>NaN</td>\n      <td>NaN</td>\n      <td>NaN</td>\n      <td>NaN</td>\n      <td>NaN</td>\n      <td>0.493784</td>\n      <td>0.839454</td>\n      <td>b'\\x01\\x03\\x00\\x00\\x00\\x01\\x00\\x00\\x00\\x05\\x00...</td>\n    </tr>\n    <tr>\n      <th>12060</th>\n      <td>11891</td>\n      <td>NaN</td>\n      <td>0.0</td>\n      <td>0.0</td>\n      <td>0.0</td>\n      <td>0.0</td>\n      <td>0.0</td>\n      <td>0.0</td>\n      <td>248886.820619</td>\n      <td>0.000000</td>\n      <td>...</td>\n      <td>183.955556</td>\n      <td>2.648148</td>\n      <td>NaN</td>\n      <td>NaN</td>\n      <td>NaN</td>\n      <td>NaN</td>\n      <td>NaN</td>\n      <td>0.501386</td>\n      <td>0.836371</td>\n      <td>b'\\x01\\x03\\x00\\x00\\x00\\x01\\x00\\x00\\x00\\x05\\x00...</td>\n    </tr>\n    <tr>\n      <th>12061</th>\n      <td>11930</td>\n      <td>NaN</td>\n      <td>0.0</td>\n      <td>0.0</td>\n      <td>0.0</td>\n      <td>0.0</td>\n      <td>0.0</td>\n      <td>0.0</td>\n      <td>248822.744207</td>\n      <td>0.000000</td>\n      <td>...</td>\n      <td>255.533333</td>\n      <td>1.518519</td>\n      <td>NaN</td>\n      <td>NaN</td>\n      <td>NaN</td>\n      <td>NaN</td>\n      <td>NaN</td>\n      <td>0.498662</td>\n      <td>0.854181</td>\n      <td>b'\\x01\\x03\\x00\\x00\\x00\\x01\\x00\\x00\\x00\\x05\\x00...</td>\n    </tr>\n    <tr>\n      <th>12062</th>\n      <td>11946</td>\n      <td>NaN</td>\n      <td>0.0</td>\n      <td>0.0</td>\n      <td>0.0</td>\n      <td>0.0</td>\n      <td>0.0</td>\n      <td>0.0</td>\n      <td>248789.817811</td>\n      <td>549.327670</td>\n      <td>...</td>\n      <td>247.462963</td>\n      <td>3.333333</td>\n      <td>NaN</td>\n      <td>NaN</td>\n      <td>NaN</td>\n      <td>NaN</td>\n      <td>NaN</td>\n      <td>-0.288820</td>\n      <td>0.540472</td>\n      <td>b'\\x01\\x03\\x00\\x00\\x00\\x01\\x00\\x00\\x00\\x05\\x00...</td>\n    </tr>\n    <tr>\n      <th>12063</th>\n      <td>11960</td>\n      <td>NaN</td>\n      <td>0.0</td>\n      <td>0.0</td>\n      <td>0.0</td>\n      <td>0.0</td>\n      <td>0.0</td>\n      <td>0.0</td>\n      <td>248800.172353</td>\n      <td>0.000000</td>\n      <td>...</td>\n      <td>213.148148</td>\n      <td>3.088889</td>\n      <td>NaN</td>\n      <td>NaN</td>\n      <td>NaN</td>\n      <td>NaN</td>\n      <td>NaN</td>\n      <td>0.454667</td>\n      <td>0.805575</td>\n      <td>b'\\x01\\x03\\x00\\x00\\x00\\x01\\x00\\x00\\x00\\x05\\x00...</td>\n    </tr>\n  </tbody>\n</table>\n<p>12064 rows × 228 columns</p>\n</div>"
     },
     "execution_count": 17,
     "metadata": {},
     "output_type": "execute_result"
    }
   ],
   "source": [
    "df_p = pd.read_parquet('./500m.parquet', engine='pyarrow')\n",
    "df_p"
   ],
   "metadata": {
    "collapsed": false,
    "pycharm": {
     "name": "#%%\n"
    }
   }
  },
  {
   "cell_type": "code",
   "execution_count": 18,
   "outputs": [
    {
     "data": {
      "text/plain": "<Figure size 720x288 with 2 Axes>",
      "image/png": "[encoded data removed]"
     },
     "metadata": {
      "needs_background": "light"
     },
     "output_type": "display_data"
    }
   ],
   "source": [
    "df_p = df_p.loc[:, (df_p != 0).any(axis=0)] #wycinanie pustych kolumn\n",
    "msno.matrix(df_p, figsize=(10,4)) # test pustych wierszy\n",
    "df_p =df_p.fillna(0) # wypełnianie Nan zerami"
   ],
   "metadata": {
    "collapsed": false,
    "pycharm": {
     "name": "#%%\n"
    }
   }
  },
  {
   "cell_type": "code",
   "execution_count": 19,
   "outputs": [
    {
     "data": {
      "text/plain": "                 id     name    crossp_pft  ctrlpntp_pft    admarea_aft  \\\ncount  12064.000000  12064.0  12064.000000  12064.000000   12064.000000   \nmean    6032.500000      0.0      0.009864      0.059682  250143.127191   \nstd     3482.721158      0.0      0.099666      0.237256     662.634476   \nmin        1.000000      0.0      0.000000      0.000000  248575.285711   \n25%     3016.750000      0.0      0.000000      0.000000  249608.159367   \n50%     6032.500000      0.0      0.000000      0.000000  250169.616581   \n75%     9048.250000      0.0      0.000000      0.000000  250697.685362   \nmax    12064.000000      0.0      2.000000      2.000000  251364.343752   \n\n        admbndl_lft  airportp_pft  athlflda_aft   bamboop_pft    beachl_lft  \\\ncount  12064.000000  12064.000000  12064.000000  12064.000000  12064.000000   \nmean      64.474977      0.000083      7.642859      0.050481      0.574846   \nstd      177.276565      0.009104    310.500323      0.250715     13.917217   \nmin        0.000000      0.000000      0.000000      0.000000      0.000000   \n25%        0.000000      0.000000      0.000000      0.000000      0.000000   \n50%        0.000000      0.000000      0.000000      0.000000      0.000000   \n75%        0.000000      0.000000      0.000000      0.000000      0.000000   \nmax     1383.129176      1.000000  23564.185364      3.000000    620.053527   \n\n       ...  z_nieprzejezdne    srtm_swiat  srtm_swiat_spadek  odl0roadl_lft  \\\ncount  ...     12064.000000  12064.000000       12064.000000        12064.0   \nmean   ...     92274.274129    182.081800           2.121827            0.0   \nstd    ...    119469.927720     34.682273           1.055047            0.0   \nmin    ...         0.000000    120.000000           0.000000            0.0   \n25%    ...         0.000000    154.627778           1.333333            0.0   \n50%    ...         0.000000    178.222222           1.907407            0.0   \n75%    ...    249504.046896    205.130556           2.648148            0.0   \nmax    ...    251364.343752    286.822222           9.577778            0.0   \n\n       odl0foresta_aft  odl0builtupa_aft  odl0railrdl_lft  odl0farmp_pft  \\\ncount          12064.0           12064.0          12064.0        12064.0   \nmean               0.0               0.0              0.0            0.0   \nstd                0.0               0.0              0.0            0.0   \nmin                0.0               0.0              0.0            0.0   \n25%                0.0               0.0              0.0            0.0   \n50%                0.0               0.0              0.0            0.0   \n75%                0.0               0.0              0.0            0.0   \nmax                0.0               0.0              0.0            0.0   \n\n       przej_wsp_nie_norm  przej_wsp_norm  \ncount        12064.000000    12064.000000  \nmean             0.029941        0.689574  \nstd              0.553779        0.191056  \nmin             -1.900014        0.000000  \n25%             -0.370621        0.543249  \n50%              0.315587        0.767213  \n75%              0.484900        0.842481  \nmax              0.505308        1.000000  \n\n[8 rows x 119 columns]",
      "text/html": "<div>\n<style scoped>\n    .dataframe tbody tr th:only-of-type {\n        vertical-align: middle;\n    }\n\n    .dataframe tbody tr th {\n        vertical-align: top;\n    }\n\n    .dataframe thead th {\n        text-align: right;\n    }\n</style>\n<table border=\"1\" class=\"dataframe\">\n  <thead>\n    <tr style=\"text-align: right;\">\n      <th></th>\n      <th>id</th>\n      <th>name</th>\n      <th>crossp_pft</th>\n      <th>ctrlpntp_pft</th>\n      <th>admarea_aft</th>\n      <th>admbndl_lft</th>\n      <th>airportp_pft</th>\n      <th>athlflda_aft</th>\n      <th>bamboop_pft</th>\n      <th>beachl_lft</th>\n      <th>...</th>\n      <th>z_nieprzejezdne</th>\n      <th>srtm_swiat</th>\n      <th>srtm_swiat_spadek</th>\n      <th>odl0roadl_lft</th>\n      <th>odl0foresta_aft</th>\n      <th>odl0builtupa_aft</th>\n      <th>odl0railrdl_lft</th>\n      <th>odl0farmp_pft</th>\n      <th>przej_wsp_nie_norm</th>\n      <th>przej_wsp_norm</th>\n    </tr>\n  </thead>\n  <tbody>\n    <tr>\n      <th>count</th>\n      <td>12064.000000</td>\n      <td>12064.0</td>\n      <td>12064.000000</td>\n      <td>12064.000000</td>\n      <td>12064.000000</td>\n      <td>12064.000000</td>\n      <td>12064.000000</td>\n      <td>12064.000000</td>\n      <td>12064.000000</td>\n      <td>12064.000000</td>\n      <td>...</td>\n      <td>12064.000000</td>\n      <td>12064.000000</td>\n      <td>12064.000000</td>\n      <td>12064.0</td>\n      <td>12064.0</td>\n      <td>12064.0</td>\n      <td>12064.0</td>\n      <td>12064.0</td>\n      <td>12064.000000</td>\n      <td>12064.000000</td>\n    </tr>\n    <tr>\n      <th>mean</th>\n      <td>6032.500000</td>\n      <td>0.0</td>\n      <td>0.009864</td>\n      <td>0.059682</td>\n      <td>250143.127191</td>\n      <td>64.474977</td>\n      <td>0.000083</td>\n      <td>7.642859</td>\n      <td>0.050481</td>\n      <td>0.574846</td>\n      <td>...</td>\n      <td>92274.274129</td>\n      <td>182.081800</td>\n      <td>2.121827</td>\n      <td>0.0</td>\n      <td>0.0</td>\n      <td>0.0</td>\n      <td>0.0</td>\n      <td>0.0</td>\n      <td>0.029941</td>\n      <td>0.689574</td>\n    </tr>\n    <tr>\n      <th>std</th>\n      <td>3482.721158</td>\n      <td>0.0</td>\n      <td>0.099666</td>\n      <td>0.237256</td>\n      <td>662.634476</td>\n      <td>177.276565</td>\n      <td>0.009104</td>\n      <td>310.500323</td>\n      <td>0.250715</td>\n      <td>13.917217</td>\n      <td>...</td>\n      <td>119469.927720</td>\n      <td>34.682273</td>\n      <td>1.055047</td>\n      <td>0.0</td>\n      <td>0.0</td>\n      <td>0.0</td>\n      <td>0.0</td>\n      <td>0.0</td>\n      <td>0.553779</td>\n      <td>0.191056</td>\n    </tr>\n    <tr>\n      <th>min</th>\n      <td>1.000000</td>\n      <td>0.0</td>\n      <td>0.000000</td>\n      <td>0.000000</td>\n      <td>248575.285711</td>\n      <td>0.000000</td>\n      <td>0.000000</td>\n      <td>0.000000</td>\n      <td>0.000000</td>\n      <td>0.000000</td>\n      <td>...</td>\n      <td>0.000000</td>\n      <td>120.000000</td>\n      <td>0.000000</td>\n      <td>0.0</td>\n      <td>0.0</td>\n      <td>0.0</td>\n      <td>0.0</td>\n      <td>0.0</td>\n      <td>-1.900014</td>\n      <td>0.000000</td>\n    </tr>\n    <tr>\n      <th>25%</th>\n      <td>3016.750000</td>\n      <td>0.0</td>\n      <td>0.000000</td>\n      <td>0.000000</td>\n      <td>249608.159367</td>\n      <td>0.000000</td>\n      <td>0.000000</td>\n      <td>0.000000</td>\n      <td>0.000000</td>\n      <td>0.000000</td>\n      <td>...</td>\n      <td>0.000000</td>\n      <td>154.627778</td>\n      <td>1.333333</td>\n      <td>0.0</td>\n      <td>0.0</td>\n      <td>0.0</td>\n      <td>0.0</td>\n      <td>0.0</td>\n      <td>-0.370621</td>\n      <td>0.543249</td>\n    </tr>\n    <tr>\n      <th>50%</th>\n      <td>6032.500000</td>\n      <td>0.0</td>\n      <td>0.000000</td>\n      <td>0.000000</td>\n      <td>250169.616581</td>\n      <td>0.000000</td>\n      <td>0.000000</td>\n      <td>0.000000</td>\n      <td>0.000000</td>\n      <td>0.000000</td>\n      <td>...</td>\n      <td>0.000000</td>\n      <td>178.222222</td>\n      <td>1.907407</td>\n      <td>0.0</td>\n      <td>0.0</td>\n      <td>0.0</td>\n      <td>0.0</td>\n      <td>0.0</td>\n      <td>0.315587</td>\n      <td>0.767213</td>\n    </tr>\n    <tr>\n      <th>75%</th>\n      <td>9048.250000</td>\n      <td>0.0</td>\n      <td>0.000000</td>\n      <td>0.000000</td>\n      <td>250697.685362</td>\n      <td>0.000000</td>\n      <td>0.000000</td>\n      <td>0.000000</td>\n      <td>0.000000</td>\n      <td>0.000000</td>\n      <td>...</td>\n      <td>249504.046896</td>\n      <td>205.130556</td>\n      <td>2.648148</td>\n      <td>0.0</td>\n      <td>0.0</td>\n      <td>0.0</td>\n      <td>0.0</td>\n      <td>0.0</td>\n      <td>0.484900</td>\n      <td>0.842481</td>\n    </tr>\n    <tr>\n      <th>max</th>\n      <td>12064.000000</td>\n      <td>0.0</td>\n      <td>2.000000</td>\n      <td>2.000000</td>\n      <td>251364.343752</td>\n      <td>1383.129176</td>\n      <td>1.000000</td>\n      <td>23564.185364</td>\n      <td>3.000000</td>\n      <td>620.053527</td>\n      <td>...</td>\n      <td>251364.343752</td>\n      <td>286.822222</td>\n      <td>9.577778</td>\n      <td>0.0</td>\n      <td>0.0</td>\n      <td>0.0</td>\n      <td>0.0</td>\n      <td>0.0</td>\n      <td>0.505308</td>\n      <td>1.000000</td>\n    </tr>\n  </tbody>\n</table>\n<p>8 rows × 119 columns</p>\n</div>"
     },
     "execution_count": 19,
     "metadata": {},
     "output_type": "execute_result"
    }
   ],
   "source": [
    "df_p.describe()"
   ],
   "metadata": {
    "collapsed": false,
    "pycharm": {
     "name": "#%%\n"
    }
   }
  },
  {
   "cell_type": "code",
   "execution_count": 20,
   "outputs": [
    {
     "data": {
      "text/plain": "(12064, 120)"
     },
     "execution_count": 20,
     "metadata": {},
     "output_type": "execute_result"
    }
   ],
   "source": [
    "df_p.shape"
   ],
   "metadata": {
    "collapsed": false,
    "pycharm": {
     "name": "#%%\n"
    }
   }
  },
  {
   "cell_type": "code",
   "execution_count": 25,
   "outputs": [
    {
     "data": {
      "text/plain": "['id',\n 'name',\n 'crossp_pft',\n 'ctrlpntp_pft',\n 'admarea_aft',\n 'admbndl_lft',\n 'airportp_pft',\n 'athlflda_aft',\n 'bamboop_pft',\n 'beachl_lft',\n 'bluffl_lft',\n 'bndmontp_pft',\n 'boulderp_pft',\n 'bridgec_pft',\n 'bridgel_lft',\n 'buildnga_aft',\n 'buildngp_pft',\n 'cultxt_pft',\n 'builtupa_aft',\n 'cairnp_pft',\n 'campsita_aft',\n 'cartracl_lft',\n 'cemetrya_aft',\n 'cemetryp_pft',\n 'chimneyp_pft',\n 'cisternp_pft',\n 'clearwa_aft',\n 'clearwl_lft',\n 'commbldp_pft',\n 'commtwrp_pft',\n 'contourl_lft',\n 'curflowp_pft',\n 'cutl_lft',\n 'damc_pft',\n 'depota_aft',\n 'depressl_lft',\n 'depressp_pft',\n 'depthcl_lft',\n 'disposa_aft',\n 'ditchl_lft',\n 'drditchl_lft',\n 'elevp_pft',\n 'embankl_lft',\n 'farmp_pft',\n 'fencel_lft',\n 'firernga_aft',\n 'fishfrma_aft',\n 'fordc_pft',\n 'foresta_aft',\n 'forestl_lft',\n 'forestp_pft',\n 'grassa_aft',\n 'grdelema_aft',\n 'gullyl_lft',\n 'hedgel_lft',\n 'hutp_pft',\n 'hydrotxt_pft',\n 'inlandp_pft',\n 'islanda_aft',\n 'lakea_aft',\n 'landsldp_pft',\n 'monumntp_pft',\n 'orchara_aft',\n 'parka_aft',\n 'phystxt_pft',\n 'piera_aft',\n 'pita_aft',\n 'pitp_pft',\n 'plazaa_aft',\n 'procplta_aft',\n 'procpltp_pft',\n 'pumpsta_aft',\n 'pumpstc_pft',\n 'pwrlinel_lft',\n 'pylonc_pft',\n 'railrdl_lft',\n 'railsidl_lft',\n 'railtrnp_pft',\n 'reservra_aft',\n 'rivcharc_pft',\n 'rivcharl_lft',\n 'rivera_aft',\n 'riverl_lft',\n 'roadl_lft',\n 'sanctrya_aft',\n 'scruba_aft',\n 'scrubp_pft',\n 'stadiuma_aft',\n 'substata_aft',\n 'substatp_pft',\n 'swampa_aft',\n 'swampp_pft',\n 'tankp_pft',\n 'tidegaup_pft',\n 'towerncp_pft',\n 'traill_lft',\n 'treesp_pft',\n 'uwdangra_aft',\n 'vegtxt_pft',\n 'vehiclea_aft',\n 'walll_lft',\n 'wellp_pft',\n 'wellsprp_pft',\n 'wtowerp_pft',\n 'gleby_gliny_aft',\n 'gleby_mady_aft',\n 'gleby_piaski_i_zwiry_aft',\n 'gleby_torfy_aft',\n 'z_trudnoprzejezdne',\n 'z_nieprzejezdne',\n 'srtm_swiat',\n 'srtm_swiat_spadek',\n 'odl0roadl_lft',\n 'odl0foresta_aft',\n 'odl0builtupa_aft',\n 'odl0railrdl_lft',\n 'odl0farmp_pft']"
     },
     "execution_count": 25,
     "metadata": {},
     "output_type": "execute_result"
    }
   ],
   "source": [
    "df_p.columns.to_list()[:-3]"
   ],
   "metadata": {
    "collapsed": false,
    "pycharm": {
     "name": "#%%\n"
    }
   }
  },
  {
   "cell_type": "code",
   "execution_count": 26,
   "outputs": [
    {
     "data": {
      "text/plain": "((12064, 117), (12064,))"
     },
     "execution_count": 26,
     "metadata": {},
     "output_type": "execute_result"
    }
   ],
   "source": [
    "#normalizacja\n",
    "X = df_p.iloc[:,:-3]\n",
    "X = MinMaxScaler().fit_transform(X)\n",
    "y = df_p['przej_wsp_norm']\n",
    "X.shape, y.shape"
   ],
   "metadata": {
    "collapsed": false,
    "pycharm": {
     "name": "#%%\n"
    }
   }
  },
  {
   "cell_type": "code",
   "execution_count": 29,
   "outputs": [],
   "source": [
    "X_train, X_test, y_train, y_test  = train_test_split(X, y, random_state=42, test_size=.2)"
   ],
   "metadata": {
    "collapsed": false,
    "pycharm": {
     "name": "#%%\n"
    }
   }
  },
  {
   "cell_type": "code",
   "execution_count": 30,
   "outputs": [
    {
     "data": {
      "text/plain": "((9651, 117), (2413, 117), (9651,), (2413,))"
     },
     "execution_count": 30,
     "metadata": {},
     "output_type": "execute_result"
    }
   ],
   "source": [
    "X_train.shape, X_test.shape, y_train.shape, y_test.shape"
   ],
   "metadata": {
    "collapsed": false,
    "pycharm": {
     "name": "#%%\n"
    }
   }
  },
  {
   "cell_type": "markdown",
   "source": [
    "# MODEL"
   ],
   "metadata": {
    "collapsed": false,
    "pycharm": {
     "name": "#%% md\n"
    }
   }
  },
  {
   "cell_type": "code",
   "execution_count": 31,
   "outputs": [],
   "source": [
    "from numpy import loadtxt\n",
    "from tensorflow.keras.models import Sequential\n",
    "from tensorflow.keras.layers import Dense,Dropout,CategoryEncoding"
   ],
   "metadata": {
    "collapsed": false,
    "pycharm": {
     "name": "#%%\n"
    }
   }
  },
  {
   "cell_type": "code",
   "execution_count": 91,
   "outputs": [],
   "source": [
    "model = Sequential()\n",
    "model.add(Dense(X_train.shape[1], input_shape=(X_train.shape[1],)))\n",
    "model.add(tf.keras.layers.Normalization())\n",
    "model.add(Dense(117, activation='relu'))\n",
    "model.add(Dense(32, activation='relu'))\n",
    "model.add(Dropout(rate=0.2))\n",
    "model.add(Dense(32, activation='relu'))\n",
    "model.add(Dense(32, activation='relu'))\n",
    "model.add(Dense(1, activation='relu'))"
   ],
   "metadata": {
    "collapsed": false,
    "pycharm": {
     "name": "#%%\n"
    }
   }
  },
  {
   "cell_type": "code",
   "execution_count": 92,
   "outputs": [],
   "source": [
    "# compile the keras model\n",
    "model.compile(loss='mean_squared_error', optimizer='adam', metrics=['mae' ]) # v1\n",
    "# from keras.optimizers import SGD\n",
    "# model.compile(loss='mse', optimizer=SGD(lr=0.01, momentum=0.9), metrics=['accuracy','mae','mse' ]) # v2"
   ],
   "metadata": {
    "collapsed": false,
    "pycharm": {
     "name": "#%%\n"
    }
   }
  },
  {
   "cell_type": "code",
   "execution_count": 86,
   "outputs": [
    {
     "name": "stdout",
     "output_type": "stream",
     "text": [
      "Model: \"sequential_4\"\n",
      "_________________________________________________________________\n",
      " Layer (type)                Output Shape              Param #   \n",
      "=================================================================\n",
      " dense_22 (Dense)            (None, 117)               13806     \n",
      "                                                                 \n",
      " normalization_4 (Normalizat  (None, 117)              235       \n",
      " ion)                                                            \n",
      "                                                                 \n",
      " dense_23 (Dense)            (None, 117)               13806     \n",
      "                                                                 \n",
      " dense_24 (Dense)            (None, 32)                3776      \n",
      "                                                                 \n",
      " dropout_8 (Dropout)         (None, 32)                0         \n",
      "                                                                 \n",
      " dense_25 (Dense)            (None, 32)                1056      \n",
      "                                                                 \n",
      " dense_26 (Dense)            (None, 32)                1056      \n",
      "                                                                 \n",
      " dense_27 (Dense)            (None, 1)                 33        \n",
      "                                                                 \n",
      "=================================================================\n",
      "Total params: 33,768\n",
      "Trainable params: 33,533\n",
      "Non-trainable params: 235\n",
      "_________________________________________________________________\n"
     ]
    }
   ],
   "source": [
    "model.summary()"
   ],
   "metadata": {
    "collapsed": false,
    "pycharm": {
     "name": "#%%\n"
    }
   }
  },
  {
   "cell_type": "code",
   "execution_count": 87,
   "outputs": [
    {
     "name": "stdout",
     "output_type": "stream",
     "text": [
      "Epoch 1/50\n",
      "287/287 [==============================] - 1s 3ms/step - loss: 4.3989e-05 - mae: 0.0037 - val_loss: 9.9683e-04 - val_mae: 0.0491\n",
      "Epoch 2/50\n",
      "287/287 [==============================] - 1s 2ms/step - loss: 3.7587e-05 - mae: 0.0042 - val_loss: 0.0011 - val_mae: 0.0512\n",
      "Epoch 3/50\n",
      "287/287 [==============================] - 1s 2ms/step - loss: 2.7696e-05 - mae: 0.0037 - val_loss: 0.0011 - val_mae: 0.0523\n",
      "Epoch 4/50\n",
      "287/287 [==============================] - 1s 2ms/step - loss: 4.0153e-05 - mae: 0.0042 - val_loss: 0.0013 - val_mae: 0.0567\n",
      "Epoch 5/50\n",
      "287/287 [==============================] - 1s 2ms/step - loss: 1.7609e-05 - mae: 0.0034 - val_loss: 0.0015 - val_mae: 0.0597\n",
      "Epoch 6/50\n",
      "287/287 [==============================] - 1s 2ms/step - loss: 5.3768e-05 - mae: 0.0043 - val_loss: 0.0012 - val_mae: 0.0548\n",
      "Epoch 7/50\n",
      "287/287 [==============================] - 1s 2ms/step - loss: 3.9420e-05 - mae: 0.0038 - val_loss: 0.0011 - val_mae: 0.0528\n",
      "Epoch 8/50\n",
      "287/287 [==============================] - 1s 2ms/step - loss: 2.3063e-05 - mae: 0.0035 - val_loss: 0.0014 - val_mae: 0.0583\n",
      "Epoch 9/50\n",
      "287/287 [==============================] - 1s 3ms/step - loss: 4.0123e-05 - mae: 0.0040 - val_loss: 0.0012 - val_mae: 0.0544\n",
      "Epoch 10/50\n",
      "287/287 [==============================] - 1s 3ms/step - loss: 1.7086e-05 - mae: 0.0040 - val_loss: 0.0014 - val_mae: 0.0581\n",
      "Epoch 11/50\n",
      "287/287 [==============================] - 1s 2ms/step - loss: 2.7638e-05 - mae: 0.0034 - val_loss: 0.0016 - val_mae: 0.0626\n",
      "Epoch 12/50\n",
      "287/287 [==============================] - 1s 2ms/step - loss: 2.9822e-05 - mae: 0.0033 - val_loss: 0.0014 - val_mae: 0.0591\n",
      "Epoch 13/50\n",
      "287/287 [==============================] - 1s 2ms/step - loss: 2.3528e-05 - mae: 0.0031 - val_loss: 0.0013 - val_mae: 0.0561\n",
      "Epoch 14/50\n",
      "287/287 [==============================] - 1s 2ms/step - loss: 6.2528e-05 - mae: 0.0043 - val_loss: 0.0015 - val_mae: 0.0596\n",
      "Epoch 15/50\n",
      "287/287 [==============================] - 1s 2ms/step - loss: 5.2176e-05 - mae: 0.0042 - val_loss: 0.0012 - val_mae: 0.0532\n",
      "Epoch 16/50\n",
      "287/287 [==============================] - 1s 3ms/step - loss: 4.8189e-05 - mae: 0.0038 - val_loss: 0.0012 - val_mae: 0.0539\n",
      "Epoch 17/50\n",
      "287/287 [==============================] - 1s 3ms/step - loss: 4.0924e-05 - mae: 0.0031 - val_loss: 0.0012 - val_mae: 0.0546\n",
      "Epoch 18/50\n",
      "287/287 [==============================] - 1s 2ms/step - loss: 1.5618e-05 - mae: 0.0030 - val_loss: 0.0012 - val_mae: 0.0531\n",
      "Epoch 19/50\n",
      "287/287 [==============================] - 1s 2ms/step - loss: 1.5104e-05 - mae: 0.0029 - val_loss: 0.0013 - val_mae: 0.0567\n",
      "Epoch 20/50\n",
      "287/287 [==============================] - 1s 2ms/step - loss: 3.0473e-05 - mae: 0.0035 - val_loss: 0.0014 - val_mae: 0.0583\n",
      "Epoch 21/50\n",
      "287/287 [==============================] - 1s 2ms/step - loss: 2.1625e-05 - mae: 0.0039 - val_loss: 0.0020 - val_mae: 0.0694\n",
      "Epoch 22/50\n",
      "287/287 [==============================] - 1s 2ms/step - loss: 4.6218e-05 - mae: 0.0038 - val_loss: 0.0016 - val_mae: 0.0613\n",
      "Epoch 23/50\n",
      "287/287 [==============================] - 1s 2ms/step - loss: 1.3454e-05 - mae: 0.0035 - val_loss: 0.0016 - val_mae: 0.0624\n",
      "Epoch 24/50\n",
      "287/287 [==============================] - 1s 2ms/step - loss: 3.4515e-05 - mae: 0.0034 - val_loss: 0.0017 - val_mae: 0.0650\n",
      "Epoch 25/50\n",
      "287/287 [==============================] - 1s 2ms/step - loss: 4.3234e-05 - mae: 0.0041 - val_loss: 0.0016 - val_mae: 0.0620\n",
      "Epoch 26/50\n",
      "287/287 [==============================] - 1s 2ms/step - loss: 4.4078e-05 - mae: 0.0033 - val_loss: 0.0013 - val_mae: 0.0559\n",
      "Epoch 27/50\n",
      "287/287 [==============================] - 1s 2ms/step - loss: 3.6616e-05 - mae: 0.0037 - val_loss: 0.0015 - val_mae: 0.0609\n",
      "Epoch 28/50\n",
      "287/287 [==============================] - 1s 2ms/step - loss: 3.8782e-05 - mae: 0.0032 - val_loss: 0.0016 - val_mae: 0.0627\n",
      "Epoch 29/50\n",
      "287/287 [==============================] - 1s 2ms/step - loss: 1.3549e-05 - mae: 0.0025 - val_loss: 0.0015 - val_mae: 0.0609\n",
      "Epoch 30/50\n",
      "287/287 [==============================] - 1s 2ms/step - loss: 4.1829e-05 - mae: 0.0039 - val_loss: 0.0014 - val_mae: 0.0584\n",
      "Epoch 31/50\n",
      "287/287 [==============================] - 1s 2ms/step - loss: 2.1093e-05 - mae: 0.0032 - val_loss: 0.0016 - val_mae: 0.0623\n",
      "Epoch 32/50\n",
      "287/287 [==============================] - 1s 2ms/step - loss: 2.4171e-05 - mae: 0.0030 - val_loss: 0.0015 - val_mae: 0.0599\n",
      "Epoch 33/50\n",
      "287/287 [==============================] - 1s 2ms/step - loss: 2.2237e-05 - mae: 0.0027 - val_loss: 0.0015 - val_mae: 0.0604\n",
      "Epoch 34/50\n",
      "287/287 [==============================] - 1s 2ms/step - loss: 2.3523e-05 - mae: 0.0028 - val_loss: 0.0015 - val_mae: 0.0600\n",
      "Epoch 35/50\n",
      "287/287 [==============================] - 1s 2ms/step - loss: 2.4779e-05 - mae: 0.0029 - val_loss: 0.0015 - val_mae: 0.0598\n",
      "Epoch 36/50\n",
      "287/287 [==============================] - 1s 2ms/step - loss: 7.6329e-06 - mae: 0.0024 - val_loss: 0.0016 - val_mae: 0.0627\n",
      "Epoch 37/50\n",
      "287/287 [==============================] - 1s 2ms/step - loss: 2.2462e-05 - mae: 0.0030 - val_loss: 0.0014 - val_mae: 0.0591\n",
      "Epoch 38/50\n",
      "287/287 [==============================] - 1s 2ms/step - loss: 1.1745e-05 - mae: 0.0033 - val_loss: 0.0017 - val_mae: 0.0649\n",
      "Epoch 39/50\n",
      "287/287 [==============================] - 1s 2ms/step - loss: 2.1453e-05 - mae: 0.0032 - val_loss: 0.0015 - val_mae: 0.0615\n",
      "Epoch 40/50\n",
      "287/287 [==============================] - 1s 2ms/step - loss: 5.3504e-05 - mae: 0.0040 - val_loss: 0.0013 - val_mae: 0.0561\n",
      "Epoch 41/50\n",
      "287/287 [==============================] - 1s 2ms/step - loss: 3.6164e-05 - mae: 0.0032 - val_loss: 0.0012 - val_mae: 0.0528\n",
      "Epoch 42/50\n",
      "287/287 [==============================] - 1s 2ms/step - loss: 2.4277e-05 - mae: 0.0029 - val_loss: 0.0012 - val_mae: 0.0540\n",
      "Epoch 43/50\n",
      "287/287 [==============================] - 1s 2ms/step - loss: 3.1615e-05 - mae: 0.0024 - val_loss: 0.0012 - val_mae: 0.0532\n",
      "Epoch 44/50\n",
      "287/287 [==============================] - 1s 2ms/step - loss: 2.6962e-05 - mae: 0.0037 - val_loss: 0.0013 - val_mae: 0.0566\n",
      "Epoch 45/50\n",
      "287/287 [==============================] - 1s 2ms/step - loss: 3.2360e-05 - mae: 0.0031 - val_loss: 9.9828e-04 - val_mae: 0.0488\n",
      "Epoch 46/50\n",
      "287/287 [==============================] - 1s 2ms/step - loss: 3.5102e-05 - mae: 0.0030 - val_loss: 0.0014 - val_mae: 0.0569\n",
      "Epoch 47/50\n",
      "287/287 [==============================] - 1s 2ms/step - loss: 2.2097e-05 - mae: 0.0031 - val_loss: 0.0013 - val_mae: 0.0564\n",
      "Epoch 48/50\n",
      "287/287 [==============================] - 1s 2ms/step - loss: 6.5415e-05 - mae: 0.0031 - val_loss: 0.0013 - val_mae: 0.0548\n",
      "Epoch 49/50\n",
      "287/287 [==============================] - 1s 2ms/step - loss: 8.0796e-06 - mae: 0.0023 - val_loss: 0.0014 - val_mae: 0.0582\n",
      "Epoch 50/50\n",
      "287/287 [==============================] - 1s 2ms/step - loss: 3.6345e-05 - mae: 0.0032 - val_loss: 0.0013 - val_mae: 0.0555\n"
     ]
    }
   ],
   "source": [
    "# fit the keras model on the dataset\n",
    "result = model.fit(X_train, y_train, epochs=50, validation_split=.05,\n",
    "                   # verbose=0,\n",
    "                   )"
   ],
   "metadata": {
    "collapsed": false,
    "pycharm": {
     "name": "#%%\n"
    }
   }
  },
  {
   "cell_type": "code",
   "execution_count": 88,
   "outputs": [
    {
     "name": "stdout",
     "output_type": "stream",
     "text": [
      "377/377 [==============================] - 1s 1ms/step - loss: 0.0013 - mae: 0.0570\n",
      "loss:0.0013296128017827868, \n",
      "accuracy: 0.00016578249051235616,\n",
      "mae: 0.05704820901155472, \n",
      "mse: 0.002123709302395582\n"
     ]
    }
   ],
   "source": [
    "# evaluate the keras model\n",
    "loss, mae  = model.evaluate(X, y)\n",
    "print(f'loss:{loss}, \\naccuracy: {accuracy},\\nmae: {mae}, \\nmse: {mse}')"
   ],
   "metadata": {
    "collapsed": false,
    "pycharm": {
     "name": "#%%\n"
    }
   }
  },
  {
   "cell_type": "markdown",
   "source": [],
   "metadata": {
    "collapsed": false,
    "pycharm": {
     "name": "#%% md\n"
    }
   }
  },
  {
   "cell_type": "code",
   "execution_count": 89,
   "outputs": [
    {
     "data": {
      "text/plain": "<Axes: >"
     },
     "execution_count": 89,
     "metadata": {},
     "output_type": "execute_result"
    },
    {
     "data": {
      "text/plain": "<Figure size 720x720 with 1 Axes>",
      "image/png": "[encoded data removed]"
     },
     "metadata": {
      "needs_background": "light"
     },
     "output_type": "display_data"
    }
   ],
   "source": [
    "df_results = pd.DataFrame(result.history)\n",
    "df_results.plot(figsize=(10,10))"
   ],
   "metadata": {
    "collapsed": false,
    "pycharm": {
     "name": "#%%\n"
    }
   }
  },
  {
   "cell_type": "code",
   "execution_count": 90,
   "outputs": [
    {
     "data": {
      "text/plain": "        loss       mae  val_loss   val_mae\n0   0.000044  0.003713  0.000997  0.049091\n1   0.000038  0.004181  0.001098  0.051233\n2   0.000028  0.003729  0.001141  0.052285\n3   0.000040  0.004154  0.001326  0.056691\n4   0.000018  0.003382  0.001471  0.059663\n5   0.000054  0.004316  0.001247  0.054799\n6   0.000039  0.003839  0.001129  0.052779\n7   0.000023  0.003491  0.001422  0.058263\n8   0.000040  0.003964  0.001249  0.054414\n9   0.000017  0.004018  0.001400  0.058080\n10  0.000028  0.003439  0.001604  0.062577\n11  0.000030  0.003277  0.001449  0.059074\n12  0.000024  0.003143  0.001297  0.056065\n13  0.000063  0.004278  0.001501  0.059566\n14  0.000052  0.004244  0.001174  0.053182\n15  0.000048  0.003755  0.001227  0.053941\n16  0.000041  0.003105  0.001240  0.054617\n17  0.000016  0.003001  0.001177  0.053071\n18  0.000015  0.002853  0.001338  0.056683\n19  0.000030  0.003467  0.001407  0.058314\n20  0.000022  0.003885  0.001990  0.069449\n21  0.000046  0.003767  0.001551  0.061336\n22  0.000013  0.003528  0.001593  0.062422\n23  0.000035  0.003403  0.001745  0.065032\n24  0.000043  0.004066  0.001586  0.062006\n25  0.000044  0.003287  0.001288  0.055873\n26  0.000037  0.003659  0.001521  0.060915\n27  0.000039  0.003169  0.001621  0.062678\n28  0.000014  0.002542  0.001532  0.060920\n29  0.000042  0.003859  0.001423  0.058444\n30  0.000021  0.003229  0.001591  0.062253\n31  0.000024  0.003021  0.001490  0.059873\n32  0.000022  0.002711  0.001509  0.060412\n33  0.000024  0.002832  0.001475  0.059996\n34  0.000025  0.002907  0.001478  0.059845\n35  0.000008  0.002447  0.001613  0.062731\n36  0.000022  0.003045  0.001439  0.059073\n37  0.000012  0.003325  0.001717  0.064917\n38  0.000021  0.003208  0.001549  0.061473\n39  0.000054  0.003974  0.001321  0.056063\n40  0.000036  0.003154  0.001160  0.052755\n41  0.000024  0.002939  0.001219  0.054035\n42  0.000032  0.002421  0.001176  0.053197\n43  0.000027  0.003668  0.001337  0.056613\n44  0.000032  0.003083  0.000998  0.048823\n45  0.000035  0.002976  0.001351  0.056879\n46  0.000022  0.003051  0.001322  0.056408\n47  0.000065  0.003079  0.001258  0.054796\n48  0.000008  0.002307  0.001407  0.058169\n49  0.000036  0.003177  0.001286  0.055505",
      "text/html": "<div>\n<style scoped>\n    .dataframe tbody tr th:only-of-type {\n        vertical-align: middle;\n    }\n\n    .dataframe tbody tr th {\n        vertical-align: top;\n    }\n\n    .dataframe thead th {\n        text-align: right;\n    }\n</style>\n<table border=\"1\" class=\"dataframe\">\n  <thead>\n    <tr style=\"text-align: right;\">\n      <th></th>\n      <th>loss</th>\n      <th>mae</th>\n      <th>val_loss</th>\n      <th>val_mae</th>\n    </tr>\n  </thead>\n  <tbody>\n    <tr>\n      <th>0</th>\n      <td>0.000044</td>\n      <td>0.003713</td>\n      <td>0.000997</td>\n      <td>0.049091</td>\n    </tr>\n    <tr>\n      <th>1</th>\n      <td>0.000038</td>\n      <td>0.004181</td>\n      <td>0.001098</td>\n      <td>0.051233</td>\n    </tr>\n    <tr>\n      <th>2</th>\n      <td>0.000028</td>\n      <td>0.003729</td>\n      <td>0.001141</td>\n      <td>0.052285</td>\n    </tr>\n    <tr>\n      <th>3</th>\n      <td>0.000040</td>\n      <td>0.004154</td>\n      <td>0.001326</td>\n      <td>0.056691</td>\n    </tr>\n    <tr>\n      <th>4</th>\n      <td>0.000018</td>\n      <td>0.003382</td>\n      <td>0.001471</td>\n      <td>0.059663</td>\n    </tr>\n    <tr>\n      <th>5</th>\n      <td>0.000054</td>\n      <td>0.004316</td>\n      <td>0.001247</td>\n      <td>0.054799</td>\n    </tr>\n    <tr>\n      <th>6</th>\n      <td>0.000039</td>\n      <td>0.003839</td>\n      <td>0.001129</td>\n      <td>0.052779</td>\n    </tr>\n    <tr>\n      <th>7</th>\n      <td>0.000023</td>\n      <td>0.003491</td>\n      <td>0.001422</td>\n      <td>0.058263</td>\n    </tr>\n    <tr>\n      <th>8</th>\n      <td>0.000040</td>\n      <td>0.003964</td>\n      <td>0.001249</td>\n      <td>0.054414</td>\n    </tr>\n    <tr>\n      <th>9</th>\n      <td>0.000017</td>\n      <td>0.004018</td>\n      <td>0.001400</td>\n      <td>0.058080</td>\n    </tr>\n    <tr>\n      <th>10</th>\n      <td>0.000028</td>\n      <td>0.003439</td>\n      <td>0.001604</td>\n      <td>0.062577</td>\n    </tr>\n    <tr>\n      <th>11</th>\n      <td>0.000030</td>\n      <td>0.003277</td>\n      <td>0.001449</td>\n      <td>0.059074</td>\n    </tr>\n    <tr>\n      <th>12</th>\n      <td>0.000024</td>\n      <td>0.003143</td>\n      <td>0.001297</td>\n      <td>0.056065</td>\n    </tr>\n    <tr>\n      <th>13</th>\n      <td>0.000063</td>\n      <td>0.004278</td>\n      <td>0.001501</td>\n      <td>0.059566</td>\n    </tr>\n    <tr>\n      <th>14</th>\n      <td>0.000052</td>\n      <td>0.004244</td>\n      <td>0.001174</td>\n      <td>0.053182</td>\n    </tr>\n    <tr>\n      <th>15</th>\n      <td>0.000048</td>\n      <td>0.003755</td>\n      <td>0.001227</td>\n      <td>0.053941</td>\n    </tr>\n    <tr>\n      <th>16</th>\n      <td>0.000041</td>\n      <td>0.003105</td>\n      <td>0.001240</td>\n      <td>0.054617</td>\n    </tr>\n    <tr>\n      <th>17</th>\n      <td>0.000016</td>\n      <td>0.003001</td>\n      <td>0.001177</td>\n      <td>0.053071</td>\n    </tr>\n    <tr>\n      <th>18</th>\n      <td>0.000015</td>\n      <td>0.002853</td>\n      <td>0.001338</td>\n      <td>0.056683</td>\n    </tr>\n    <tr>\n      <th>19</th>\n      <td>0.000030</td>\n      <td>0.003467</td>\n      <td>0.001407</td>\n      <td>0.058314</td>\n    </tr>\n    <tr>\n      <th>20</th>\n      <td>0.000022</td>\n      <td>0.003885</td>\n      <td>0.001990</td>\n      <td>0.069449</td>\n    </tr>\n    <tr>\n      <th>21</th>\n      <td>0.000046</td>\n      <td>0.003767</td>\n      <td>0.001551</td>\n      <td>0.061336</td>\n    </tr>\n    <tr>\n      <th>22</th>\n      <td>0.000013</td>\n      <td>0.003528</td>\n      <td>0.001593</td>\n      <td>0.062422</td>\n    </tr>\n    <tr>\n      <th>23</th>\n      <td>0.000035</td>\n      <td>0.003403</td>\n      <td>0.001745</td>\n      <td>0.065032</td>\n    </tr>\n    <tr>\n      <th>24</th>\n      <td>0.000043</td>\n      <td>0.004066</td>\n      <td>0.001586</td>\n      <td>0.062006</td>\n    </tr>\n    <tr>\n      <th>25</th>\n      <td>0.000044</td>\n      <td>0.003287</td>\n      <td>0.001288</td>\n      <td>0.055873</td>\n    </tr>\n    <tr>\n      <th>26</th>\n      <td>0.000037</td>\n      <td>0.003659</td>\n      <td>0.001521</td>\n      <td>0.060915</td>\n    </tr>\n    <tr>\n      <th>27</th>\n      <td>0.000039</td>\n      <td>0.003169</td>\n      <td>0.001621</td>\n      <td>0.062678</td>\n    </tr>\n    <tr>\n      <th>28</th>\n      <td>0.000014</td>\n      <td>0.002542</td>\n      <td>0.001532</td>\n      <td>0.060920</td>\n    </tr>\n    <tr>\n      <th>29</th>\n      <td>0.000042</td>\n      <td>0.003859</td>\n      <td>0.001423</td>\n      <td>0.058444</td>\n    </tr>\n    <tr>\n      <th>30</th>\n      <td>0.000021</td>\n      <td>0.003229</td>\n      <td>0.001591</td>\n      <td>0.062253</td>\n    </tr>\n    <tr>\n      <th>31</th>\n      <td>0.000024</td>\n      <td>0.003021</td>\n      <td>0.001490</td>\n      <td>0.059873</td>\n    </tr>\n    <tr>\n      <th>32</th>\n      <td>0.000022</td>\n      <td>0.002711</td>\n      <td>0.001509</td>\n      <td>0.060412</td>\n    </tr>\n    <tr>\n      <th>33</th>\n      <td>0.000024</td>\n      <td>0.002832</td>\n      <td>0.001475</td>\n      <td>0.059996</td>\n    </tr>\n    <tr>\n      <th>34</th>\n      <td>0.000025</td>\n      <td>0.002907</td>\n      <td>0.001478</td>\n      <td>0.059845</td>\n    </tr>\n    <tr>\n      <th>35</th>\n      <td>0.000008</td>\n      <td>0.002447</td>\n      <td>0.001613</td>\n      <td>0.062731</td>\n    </tr>\n    <tr>\n      <th>36</th>\n      <td>0.000022</td>\n      <td>0.003045</td>\n      <td>0.001439</td>\n      <td>0.059073</td>\n    </tr>\n    <tr>\n      <th>37</th>\n      <td>0.000012</td>\n      <td>0.003325</td>\n      <td>0.001717</td>\n      <td>0.064917</td>\n    </tr>\n    <tr>\n      <th>38</th>\n      <td>0.000021</td>\n      <td>0.003208</td>\n      <td>0.001549</td>\n      <td>0.061473</td>\n    </tr>\n    <tr>\n      <th>39</th>\n      <td>0.000054</td>\n      <td>0.003974</td>\n      <td>0.001321</td>\n      <td>0.056063</td>\n    </tr>\n    <tr>\n      <th>40</th>\n      <td>0.000036</td>\n      <td>0.003154</td>\n      <td>0.001160</td>\n      <td>0.052755</td>\n    </tr>\n    <tr>\n      <th>41</th>\n      <td>0.000024</td>\n      <td>0.002939</td>\n      <td>0.001219</td>\n      <td>0.054035</td>\n    </tr>\n    <tr>\n      <th>42</th>\n      <td>0.000032</td>\n      <td>0.002421</td>\n      <td>0.001176</td>\n      <td>0.053197</td>\n    </tr>\n    <tr>\n      <th>43</th>\n      <td>0.000027</td>\n      <td>0.003668</td>\n      <td>0.001337</td>\n      <td>0.056613</td>\n    </tr>\n    <tr>\n      <th>44</th>\n      <td>0.000032</td>\n      <td>0.003083</td>\n      <td>0.000998</td>\n      <td>0.048823</td>\n    </tr>\n    <tr>\n      <th>45</th>\n      <td>0.000035</td>\n      <td>0.002976</td>\n      <td>0.001351</td>\n      <td>0.056879</td>\n    </tr>\n    <tr>\n      <th>46</th>\n      <td>0.000022</td>\n      <td>0.003051</td>\n      <td>0.001322</td>\n      <td>0.056408</td>\n    </tr>\n    <tr>\n      <th>47</th>\n      <td>0.000065</td>\n      <td>0.003079</td>\n      <td>0.001258</td>\n      <td>0.054796</td>\n    </tr>\n    <tr>\n      <th>48</th>\n      <td>0.000008</td>\n      <td>0.002307</td>\n      <td>0.001407</td>\n      <td>0.058169</td>\n    </tr>\n    <tr>\n      <th>49</th>\n      <td>0.000036</td>\n      <td>0.003177</td>\n      <td>0.001286</td>\n      <td>0.055505</td>\n    </tr>\n  </tbody>\n</table>\n</div>"
     },
     "execution_count": 90,
     "metadata": {},
     "output_type": "execute_result"
    }
   ],
   "source": [
    "df_results"
   ],
   "metadata": {
    "collapsed": false,
    "pycharm": {
     "name": "#%%\n"
    }
   }
  },
  {
   "cell_type": "code",
   "execution_count": null,
   "outputs": [],
   "source": [],
   "metadata": {
    "collapsed": false,
    "pycharm": {
     "name": "#%%\n",
     "is_executing": true
    }
   }
  },
  {
   "cell_type": "code",
   "execution_count": 55,
   "outputs": [],
   "source": [],
   "metadata": {
    "collapsed": false,
    "pycharm": {
     "name": "#%%\n"
    }
   }
  }
 ],
 "metadata": {
  "kernelspec": {
   "display_name": "Python 3",
   "language": "python",
   "name": "python3"
  },
  "language_info": {
   "codemirror_mode": {
    "name": "ipython",
    "version": 2
   },
   "file_extension": ".py",
   "mimetype": "text/x-python",
   "name": "python",
   "nbconvert_exporter": "python",
   "pygments_lexer": "ipython2",
   "version": "2.7.6"
  }
 },
 "nbformat": 4,
 "nbformat_minor": 0
}