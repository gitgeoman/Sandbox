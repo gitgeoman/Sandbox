{
 "cells": [
  {
   "cell_type": "code",
   "execution_count": 2,
   "metadata": {
    "collapsed": true,
    "pycharm": {
     "name": "#%%\n"
    }
   },
   "outputs": [
    {
     "name": "stdout",
     "output_type": "stream",
     "text": [
      "Defaulting to user installation because normal site-packages is not writeable\n",
      "Requirement already satisfied: autokeras in c:\\users\\mwyszynski\\appdata\\roaming\\python\\python310\\site-packages (1.0.20)\n",
      "Requirement already satisfied: packaging in c:\\python310\\lib\\site-packages (from autokeras) (21.3)\n",
      "Requirement already satisfied: tensorflow>=2.8.0 in c:\\users\\mwyszynski\\appdata\\roaming\\python\\python310\\site-packages (from autokeras) (2.10.1)\n",
      "Requirement already satisfied: keras-tuner>=1.1.0 in c:\\users\\mwyszynski\\appdata\\roaming\\python\\python310\\site-packages (from autokeras) (1.3.5)\n",
      "Requirement already satisfied: pandas in c:\\python310\\lib\\site-packages (from autokeras) (1.4.1)\n",
      "Requirement already satisfied: requests in c:\\python310\\lib\\site-packages (from keras-tuner>=1.1.0->autokeras) (2.27.1)\n",
      "Requirement already satisfied: kt-legacy in c:\\users\\mwyszynski\\appdata\\roaming\\python\\python310\\site-packages (from keras-tuner>=1.1.0->autokeras) (1.0.5)\n",
      "Requirement already satisfied: absl-py>=1.0.0 in c:\\users\\mwyszynski\\appdata\\roaming\\python\\python310\\site-packages (from tensorflow>=2.8.0->autokeras) (1.4.0)\n",
      "Requirement already satisfied: astunparse>=1.6.0 in c:\\users\\mwyszynski\\appdata\\roaming\\python\\python310\\site-packages (from tensorflow>=2.8.0->autokeras) (1.6.3)\n",
      "Requirement already satisfied: flatbuffers>=2.0 in c:\\users\\mwyszynski\\appdata\\roaming\\python\\python310\\site-packages (from tensorflow>=2.8.0->autokeras) (23.5.26)\n",
      "Requirement already satisfied: gast<=0.4.0,>=0.2.1 in c:\\users\\mwyszynski\\appdata\\roaming\\python\\python310\\site-packages (from tensorflow>=2.8.0->autokeras) (0.4.0)\n",
      "Requirement already satisfied: google-pasta>=0.1.1 in c:\\users\\mwyszynski\\appdata\\roaming\\python\\python310\\site-packages (from tensorflow>=2.8.0->autokeras) (0.2.0)\n",
      "Requirement already satisfied: h5py>=2.9.0 in c:\\users\\mwyszynski\\appdata\\roaming\\python\\python310\\site-packages (from tensorflow>=2.8.0->autokeras) (3.9.0)\n",
      "Requirement already satisfied: keras-preprocessing>=1.1.1 in c:\\users\\mwyszynski\\appdata\\roaming\\python\\python310\\site-packages (from tensorflow>=2.8.0->autokeras) (1.1.2)\n",
      "Requirement already satisfied: libclang>=13.0.0 in c:\\users\\mwyszynski\\appdata\\roaming\\python\\python310\\site-packages (from tensorflow>=2.8.0->autokeras) (16.0.6)\n",
      "Requirement already satisfied: numpy>=1.20 in c:\\python310\\lib\\site-packages (from tensorflow>=2.8.0->autokeras) (1.24.2)\n",
      "Requirement already satisfied: opt-einsum>=2.3.2 in c:\\users\\mwyszynski\\appdata\\roaming\\python\\python310\\site-packages (from tensorflow>=2.8.0->autokeras) (3.3.0)\n",
      "Requirement already satisfied: protobuf<3.20,>=3.9.2 in c:\\users\\mwyszynski\\appdata\\roaming\\python\\python310\\site-packages (from tensorflow>=2.8.0->autokeras) (3.19.6)\n",
      "Requirement already satisfied: setuptools in c:\\python310\\lib\\site-packages (from tensorflow>=2.8.0->autokeras) (63.2.0)\n",
      "Requirement already satisfied: six>=1.12.0 in c:\\python310\\lib\\site-packages (from tensorflow>=2.8.0->autokeras) (1.16.0)\n",
      "Requirement already satisfied: termcolor>=1.1.0 in c:\\users\\mwyszynski\\appdata\\roaming\\python\\python310\\site-packages (from tensorflow>=2.8.0->autokeras) (2.3.0)\n",
      "Requirement already satisfied: typing-extensions>=3.6.6 in c:\\python310\\lib\\site-packages (from tensorflow>=2.8.0->autokeras) (4.5.0)\n",
      "Requirement already satisfied: wrapt>=1.11.0 in c:\\users\\mwyszynski\\appdata\\roaming\\python\\python310\\site-packages (from tensorflow>=2.8.0->autokeras) (1.15.0)\n",
      "Requirement already satisfied: tensorflow-io-gcs-filesystem>=0.23.1 in c:\\users\\mwyszynski\\appdata\\roaming\\python\\python310\\site-packages (from tensorflow>=2.8.0->autokeras) (0.31.0)\n",
      "Requirement already satisfied: grpcio<2.0,>=1.24.3 in c:\\users\\mwyszynski\\appdata\\roaming\\python\\python310\\site-packages (from tensorflow>=2.8.0->autokeras) (1.57.0)\n",
      "Requirement already satisfied: tensorboard<2.11,>=2.10 in c:\\users\\mwyszynski\\appdata\\roaming\\python\\python310\\site-packages (from tensorflow>=2.8.0->autokeras) (2.10.1)\n",
      "Requirement already satisfied: tensorflow-estimator<2.11,>=2.10.0 in c:\\users\\mwyszynski\\appdata\\roaming\\python\\python310\\site-packages (from tensorflow>=2.8.0->autokeras) (2.10.0)\n",
      "Requirement already satisfied: keras<2.11,>=2.10.0 in c:\\users\\mwyszynski\\appdata\\roaming\\python\\python310\\site-packages (from tensorflow>=2.8.0->autokeras) (2.10.0)\n",
      "Requirement already satisfied: pyparsing!=3.0.5,>=2.0.2 in c:\\python310\\lib\\site-packages (from packaging->autokeras) (3.0.7)\n",
      "Requirement already satisfied: python-dateutil>=2.8.1 in c:\\python310\\lib\\site-packages (from pandas->autokeras) (2.8.2)\n",
      "Requirement already satisfied: pytz>=2020.1 in c:\\python310\\lib\\site-packages (from pandas->autokeras) (2021.3)\n",
      "Requirement already satisfied: wheel<1.0,>=0.23.0 in c:\\python310\\lib\\site-packages (from astunparse>=1.6.0->tensorflow>=2.8.0->autokeras) (0.37.1)\n",
      "Requirement already satisfied: google-auth<3,>=1.6.3 in c:\\users\\mwyszynski\\appdata\\roaming\\python\\python310\\site-packages (from tensorboard<2.11,>=2.10->tensorflow>=2.8.0->autokeras) (2.22.0)\n",
      "Requirement already satisfied: google-auth-oauthlib<0.5,>=0.4.1 in c:\\users\\mwyszynski\\appdata\\roaming\\python\\python310\\site-packages (from tensorboard<2.11,>=2.10->tensorflow>=2.8.0->autokeras) (0.4.6)\n",
      "Requirement already satisfied: markdown>=2.6.8 in c:\\users\\mwyszynski\\appdata\\roaming\\python\\python310\\site-packages (from tensorboard<2.11,>=2.10->tensorflow>=2.8.0->autokeras) (3.4.4)\n",
      "Requirement already satisfied: tensorboard-data-server<0.7.0,>=0.6.0 in c:\\users\\mwyszynski\\appdata\\roaming\\python\\python310\\site-packages (from tensorboard<2.11,>=2.10->tensorflow>=2.8.0->autokeras) (0.6.1)\n",
      "Requirement already satisfied: tensorboard-plugin-wit>=1.6.0 in c:\\users\\mwyszynski\\appdata\\roaming\\python\\python310\\site-packages (from tensorboard<2.11,>=2.10->tensorflow>=2.8.0->autokeras) (1.8.1)\n",
      "Requirement already satisfied: werkzeug>=1.0.1 in c:\\users\\mwyszynski\\appdata\\roaming\\python\\python310\\site-packages (from tensorboard<2.11,>=2.10->tensorflow>=2.8.0->autokeras) (2.3.6)\n",
      "Requirement already satisfied: urllib3<1.27,>=1.21.1 in c:\\python310\\lib\\site-packages (from requests->keras-tuner>=1.1.0->autokeras) (1.26.8)\n",
      "Requirement already satisfied: certifi>=2017.4.17 in c:\\python310\\lib\\site-packages (from requests->keras-tuner>=1.1.0->autokeras) (2021.10.8)\n",
      "Requirement already satisfied: charset-normalizer~=2.0.0 in c:\\python310\\lib\\site-packages (from requests->keras-tuner>=1.1.0->autokeras) (2.0.12)\n",
      "Requirement already satisfied: idna<4,>=2.5 in c:\\python310\\lib\\site-packages (from requests->keras-tuner>=1.1.0->autokeras) (3.3)\n",
      "Requirement already satisfied: cachetools<6.0,>=2.0.0 in c:\\users\\mwyszynski\\appdata\\roaming\\python\\python310\\site-packages (from google-auth<3,>=1.6.3->tensorboard<2.11,>=2.10->tensorflow>=2.8.0->autokeras) (5.3.1)\n",
      "Requirement already satisfied: pyasn1-modules>=0.2.1 in c:\\users\\mwyszynski\\appdata\\roaming\\python\\python310\\site-packages (from google-auth<3,>=1.6.3->tensorboard<2.11,>=2.10->tensorflow>=2.8.0->autokeras) (0.3.0)\n",
      "Requirement already satisfied: rsa<5,>=3.1.4 in c:\\users\\mwyszynski\\appdata\\roaming\\python\\python310\\site-packages (from google-auth<3,>=1.6.3->tensorboard<2.11,>=2.10->tensorflow>=2.8.0->autokeras) (4.9)\n",
      "Requirement already satisfied: requests-oauthlib>=0.7.0 in c:\\users\\mwyszynski\\appdata\\roaming\\python\\python310\\site-packages (from google-auth-oauthlib<0.5,>=0.4.1->tensorboard<2.11,>=2.10->tensorflow>=2.8.0->autokeras) (1.3.1)\n",
      "Requirement already satisfied: MarkupSafe>=2.1.1 in c:\\users\\mwyszynski\\appdata\\roaming\\python\\python310\\site-packages (from werkzeug>=1.0.1->tensorboard<2.11,>=2.10->tensorflow>=2.8.0->autokeras) (2.1.3)\n",
      "Requirement already satisfied: pyasn1<0.6.0,>=0.4.6 in c:\\users\\mwyszynski\\appdata\\roaming\\python\\python310\\site-packages (from pyasn1-modules>=0.2.1->google-auth<3,>=1.6.3->tensorboard<2.11,>=2.10->tensorflow>=2.8.0->autokeras) (0.5.0)\n",
      "Requirement already satisfied: oauthlib>=3.0.0 in c:\\users\\mwyszynski\\appdata\\roaming\\python\\python310\\site-packages (from requests-oauthlib>=0.7.0->google-auth-oauthlib<0.5,>=0.4.1->tensorboard<2.11,>=2.10->tensorflow>=2.8.0->autokeras) (3.2.2)\n"
     ]
    }
   ],
   "source": [
    "!pip install autokeras"
   ]
  },
  {
   "cell_type": "code",
   "execution_count": 4,
   "outputs": [
    {
     "name": "stdout",
     "output_type": "stream",
     "text": [
      "Name: autokeras\n",
      "Version: 1.0.20\n",
      "Summary: AutoML for deep learning\n",
      "Home-page: http://autokeras.com\n",
      "Author: DATA Lab, Keras Team\n",
      "Author-email: jhfjhfj1@gmail.com\n",
      "License: Apache License 2.0\n",
      "Location: c:\\users\\mwyszynski\\appdata\\roaming\\python\\python310\\site-packages\n",
      "Requires: keras-tuner, packaging, pandas, tensorflow\n",
      "Required-by: \n"
     ]
    }
   ],
   "source": [
    "!pip show autokeras"
   ],
   "metadata": {
    "collapsed": false,
    "pycharm": {
     "name": "#%%\n"
    }
   }
  },
  {
   "cell_type": "code",
   "execution_count": 15,
   "outputs": [],
   "source": [
    "import pandas as pd\n",
    "import tensorflow as tf\n",
    "import teller as tr\n",
    "from sklearn.preprocessing import MinMaxScaler\n",
    "from sklearn.model_selection import train_test_split\n",
    "from autokeras import StructuredDataRegressor\n",
    "import matplotlib.pyplot as plt\n",
    "import seaborn as sns\n",
    "%matplotlib inline\n",
    "import seaborn as sns\n",
    "import missingno as msno\n",
    "import numpy as np\n",
    "\n",
    "import autokeras as ak"
   ],
   "metadata": {
    "collapsed": false,
    "pycharm": {
     "name": "#%%\n"
    }
   }
  },
  {
   "cell_type": "code",
   "execution_count": 6,
   "outputs": [
    {
     "data": {
      "text/plain": "             fid       id  name  cropa_aft  crevicea_a  crevicel_l  \\\n0            1.0  7515927  None        0.0         0.0         0.0   \n1            2.0  7515929  None        0.0         0.0         0.0   \n2            3.0  7922649  None        0.0         0.0         0.0   \n3            4.0  7515930  None        0.0         0.0         0.0   \n4            5.0  7922652  None        0.0         0.0         0.0   \n...          ...      ...   ...        ...         ...         ...   \n295767  295768.0  7958574  None        0.0         0.0         0.0   \n295768  295769.0  7959569  None        0.0         0.0         0.0   \n295769  295770.0  7959588  None        0.0         0.0         0.0   \n295770  295771.0  7962660  None        0.0         0.0         0.0   \n295771  295772.0  7994122  None        0.0         0.0         0.0   \n\n        crossp_pft  ctowerp_pf  ctrlpntp_p    admarea_af  ...  przej_ws_1  \\\n0              0.0         0.0         0.0  10004.043152  ...    0.770394   \n1              0.0         0.0         0.0  10004.058116  ...    0.418342   \n2              0.0         0.0         0.0   9968.171990  ...    0.635198   \n3              0.0         0.0         0.0  10004.065605  ...    0.403380   \n4              0.0         0.0         0.0   9968.190629  ...    0.554731   \n...            ...         ...         ...           ...  ...         ...   \n295767         0.0         0.0         0.0   9964.399978  ...    0.396502   \n295768         0.0         0.0         0.0   9961.384246  ...    0.362713   \n295769         0.0         0.0         0.0   9961.457933  ...    0.409485   \n295770         0.0         0.0         0.0   9961.393478  ...    0.173030   \n295771         0.0         0.0         0.0   9956.571125  ...    0.796204   \n\n        przej_ws_2  przej_ws_3  przej_ws_4  przej_ws_5  przej_ws_6  \\\n0             -1.0    0.111801    0.983850    0.843433         1.0   \n1             -1.0    0.180419    0.276239    0.831914         1.0   \n2             -1.0    0.190709    0.657922    0.883413         1.0   \n3             -1.0    0.111801    0.276238    0.854727         1.0   \n4             -1.0    0.111801    0.697345    0.892642         1.0   \n...            ...         ...         ...         ...         ...   \n295767        -1.0    0.111801    0.279108    0.804592         1.0   \n295768        -1.0    0.111801    0.279326    0.835093         1.0   \n295769        -1.0    0.111801    0.279321    0.887256         1.0   \n295770        -1.0    0.156469    0.008991    0.851548         1.0   \n295771        -1.0    0.111801    1.000000    0.865285         1.0   \n\n        przej_ws_7  przej_ws_8  przej_ws_9  \\\n0             -1.0    0.958834    0.469788   \n1             -1.0    1.000000   -0.798214   \n2             -1.0    1.000000   -0.114583   \n3             -1.0    1.000000   -0.800000   \n4             -1.0    0.753210   -0.052822   \n...            ...         ...         ...   \n295767        -1.0    1.000000   -0.800000   \n295768        -1.0    0.883670   -0.929126   \n295769        -1.0    1.000000   -0.800000   \n295770        -1.0    0.538594   -1.611154   \n295771        -1.0    1.000000    0.500000   \n\n                                                 geometry  \n0       b'\\x01\\x03\\x00\\x00\\x00\\x01\\x00\\x00\\x00\\x05\\x00...  \n1       b'\\x01\\x03\\x00\\x00\\x00\\x01\\x00\\x00\\x00\\x05\\x00...  \n2       b'\\x01\\x03\\x00\\x00\\x00\\x01\\x00\\x00\\x00\\x05\\x00...  \n3       b'\\x01\\x03\\x00\\x00\\x00\\x01\\x00\\x00\\x00\\x05\\x00...  \n4       b'\\x01\\x03\\x00\\x00\\x00\\x01\\x00\\x00\\x00\\x05\\x00...  \n...                                                   ...  \n295767  b'\\x01\\x03\\x00\\x00\\x00\\x01\\x00\\x00\\x00\\x05\\x00...  \n295768  b'\\x01\\x03\\x00\\x00\\x00\\x01\\x00\\x00\\x00\\x05\\x00...  \n295769  b'\\x01\\x03\\x00\\x00\\x00\\x01\\x00\\x00\\x00\\x05\\x00...  \n295770  b'\\x01\\x03\\x00\\x00\\x00\\x01\\x00\\x00\\x00\\x05\\x00...  \n295771  b'\\x01\\x03\\x00\\x00\\x00\\x01\\x00\\x00\\x00\\x05\\x00...  \n\n[295772 rows x 238 columns]",
      "text/html": "<div>\n<style scoped>\n    .dataframe tbody tr th:only-of-type {\n        vertical-align: middle;\n    }\n\n    .dataframe tbody tr th {\n        vertical-align: top;\n    }\n\n    .dataframe thead th {\n        text-align: right;\n    }\n</style>\n<table border=\"1\" class=\"dataframe\">\n  <thead>\n    <tr style=\"text-align: right;\">\n      <th></th>\n      <th>fid</th>\n      <th>id</th>\n      <th>name</th>\n      <th>cropa_aft</th>\n      <th>crevicea_a</th>\n      <th>crevicel_l</th>\n      <th>crossp_pft</th>\n      <th>ctowerp_pf</th>\n      <th>ctrlpntp_p</th>\n      <th>admarea_af</th>\n      <th>...</th>\n      <th>przej_ws_1</th>\n      <th>przej_ws_2</th>\n      <th>przej_ws_3</th>\n      <th>przej_ws_4</th>\n      <th>przej_ws_5</th>\n      <th>przej_ws_6</th>\n      <th>przej_ws_7</th>\n      <th>przej_ws_8</th>\n      <th>przej_ws_9</th>\n      <th>geometry</th>\n    </tr>\n  </thead>\n  <tbody>\n    <tr>\n      <th>0</th>\n      <td>1.0</td>\n      <td>7515927</td>\n      <td>None</td>\n      <td>0.0</td>\n      <td>0.0</td>\n      <td>0.0</td>\n      <td>0.0</td>\n      <td>0.0</td>\n      <td>0.0</td>\n      <td>10004.043152</td>\n      <td>...</td>\n      <td>0.770394</td>\n      <td>-1.0</td>\n      <td>0.111801</td>\n      <td>0.983850</td>\n      <td>0.843433</td>\n      <td>1.0</td>\n      <td>-1.0</td>\n      <td>0.958834</td>\n      <td>0.469788</td>\n      <td>b'\\x01\\x03\\x00\\x00\\x00\\x01\\x00\\x00\\x00\\x05\\x00...</td>\n    </tr>\n    <tr>\n      <th>1</th>\n      <td>2.0</td>\n      <td>7515929</td>\n      <td>None</td>\n      <td>0.0</td>\n      <td>0.0</td>\n      <td>0.0</td>\n      <td>0.0</td>\n      <td>0.0</td>\n      <td>0.0</td>\n      <td>10004.058116</td>\n      <td>...</td>\n      <td>0.418342</td>\n      <td>-1.0</td>\n      <td>0.180419</td>\n      <td>0.276239</td>\n      <td>0.831914</td>\n      <td>1.0</td>\n      <td>-1.0</td>\n      <td>1.000000</td>\n      <td>-0.798214</td>\n      <td>b'\\x01\\x03\\x00\\x00\\x00\\x01\\x00\\x00\\x00\\x05\\x00...</td>\n    </tr>\n    <tr>\n      <th>2</th>\n      <td>3.0</td>\n      <td>7922649</td>\n      <td>None</td>\n      <td>0.0</td>\n      <td>0.0</td>\n      <td>0.0</td>\n      <td>0.0</td>\n      <td>0.0</td>\n      <td>0.0</td>\n      <td>9968.171990</td>\n      <td>...</td>\n      <td>0.635198</td>\n      <td>-1.0</td>\n      <td>0.190709</td>\n      <td>0.657922</td>\n      <td>0.883413</td>\n      <td>1.0</td>\n      <td>-1.0</td>\n      <td>1.000000</td>\n      <td>-0.114583</td>\n      <td>b'\\x01\\x03\\x00\\x00\\x00\\x01\\x00\\x00\\x00\\x05\\x00...</td>\n    </tr>\n    <tr>\n      <th>3</th>\n      <td>4.0</td>\n      <td>7515930</td>\n      <td>None</td>\n      <td>0.0</td>\n      <td>0.0</td>\n      <td>0.0</td>\n      <td>0.0</td>\n      <td>0.0</td>\n      <td>0.0</td>\n      <td>10004.065605</td>\n      <td>...</td>\n      <td>0.403380</td>\n      <td>-1.0</td>\n      <td>0.111801</td>\n      <td>0.276238</td>\n      <td>0.854727</td>\n      <td>1.0</td>\n      <td>-1.0</td>\n      <td>1.000000</td>\n      <td>-0.800000</td>\n      <td>b'\\x01\\x03\\x00\\x00\\x00\\x01\\x00\\x00\\x00\\x05\\x00...</td>\n    </tr>\n    <tr>\n      <th>4</th>\n      <td>5.0</td>\n      <td>7922652</td>\n      <td>None</td>\n      <td>0.0</td>\n      <td>0.0</td>\n      <td>0.0</td>\n      <td>0.0</td>\n      <td>0.0</td>\n      <td>0.0</td>\n      <td>9968.190629</td>\n      <td>...</td>\n      <td>0.554731</td>\n      <td>-1.0</td>\n      <td>0.111801</td>\n      <td>0.697345</td>\n      <td>0.892642</td>\n      <td>1.0</td>\n      <td>-1.0</td>\n      <td>0.753210</td>\n      <td>-0.052822</td>\n      <td>b'\\x01\\x03\\x00\\x00\\x00\\x01\\x00\\x00\\x00\\x05\\x00...</td>\n    </tr>\n    <tr>\n      <th>...</th>\n      <td>...</td>\n      <td>...</td>\n      <td>...</td>\n      <td>...</td>\n      <td>...</td>\n      <td>...</td>\n      <td>...</td>\n      <td>...</td>\n      <td>...</td>\n      <td>...</td>\n      <td>...</td>\n      <td>...</td>\n      <td>...</td>\n      <td>...</td>\n      <td>...</td>\n      <td>...</td>\n      <td>...</td>\n      <td>...</td>\n      <td>...</td>\n      <td>...</td>\n      <td>...</td>\n    </tr>\n    <tr>\n      <th>295767</th>\n      <td>295768.0</td>\n      <td>7958574</td>\n      <td>None</td>\n      <td>0.0</td>\n      <td>0.0</td>\n      <td>0.0</td>\n      <td>0.0</td>\n      <td>0.0</td>\n      <td>0.0</td>\n      <td>9964.399978</td>\n      <td>...</td>\n      <td>0.396502</td>\n      <td>-1.0</td>\n      <td>0.111801</td>\n      <td>0.279108</td>\n      <td>0.804592</td>\n      <td>1.0</td>\n      <td>-1.0</td>\n      <td>1.000000</td>\n      <td>-0.800000</td>\n      <td>b'\\x01\\x03\\x00\\x00\\x00\\x01\\x00\\x00\\x00\\x05\\x00...</td>\n    </tr>\n    <tr>\n      <th>295768</th>\n      <td>295769.0</td>\n      <td>7959569</td>\n      <td>None</td>\n      <td>0.0</td>\n      <td>0.0</td>\n      <td>0.0</td>\n      <td>0.0</td>\n      <td>0.0</td>\n      <td>0.0</td>\n      <td>9961.384246</td>\n      <td>...</td>\n      <td>0.362713</td>\n      <td>-1.0</td>\n      <td>0.111801</td>\n      <td>0.279326</td>\n      <td>0.835093</td>\n      <td>1.0</td>\n      <td>-1.0</td>\n      <td>0.883670</td>\n      <td>-0.929126</td>\n      <td>b'\\x01\\x03\\x00\\x00\\x00\\x01\\x00\\x00\\x00\\x05\\x00...</td>\n    </tr>\n    <tr>\n      <th>295769</th>\n      <td>295770.0</td>\n      <td>7959588</td>\n      <td>None</td>\n      <td>0.0</td>\n      <td>0.0</td>\n      <td>0.0</td>\n      <td>0.0</td>\n      <td>0.0</td>\n      <td>0.0</td>\n      <td>9961.457933</td>\n      <td>...</td>\n      <td>0.409485</td>\n      <td>-1.0</td>\n      <td>0.111801</td>\n      <td>0.279321</td>\n      <td>0.887256</td>\n      <td>1.0</td>\n      <td>-1.0</td>\n      <td>1.000000</td>\n      <td>-0.800000</td>\n      <td>b'\\x01\\x03\\x00\\x00\\x00\\x01\\x00\\x00\\x00\\x05\\x00...</td>\n    </tr>\n    <tr>\n      <th>295770</th>\n      <td>295771.0</td>\n      <td>7962660</td>\n      <td>None</td>\n      <td>0.0</td>\n      <td>0.0</td>\n      <td>0.0</td>\n      <td>0.0</td>\n      <td>0.0</td>\n      <td>0.0</td>\n      <td>9961.393478</td>\n      <td>...</td>\n      <td>0.173030</td>\n      <td>-1.0</td>\n      <td>0.156469</td>\n      <td>0.008991</td>\n      <td>0.851548</td>\n      <td>1.0</td>\n      <td>-1.0</td>\n      <td>0.538594</td>\n      <td>-1.611154</td>\n      <td>b'\\x01\\x03\\x00\\x00\\x00\\x01\\x00\\x00\\x00\\x05\\x00...</td>\n    </tr>\n    <tr>\n      <th>295771</th>\n      <td>295772.0</td>\n      <td>7994122</td>\n      <td>None</td>\n      <td>0.0</td>\n      <td>0.0</td>\n      <td>0.0</td>\n      <td>0.0</td>\n      <td>0.0</td>\n      <td>0.0</td>\n      <td>9956.571125</td>\n      <td>...</td>\n      <td>0.796204</td>\n      <td>-1.0</td>\n      <td>0.111801</td>\n      <td>1.000000</td>\n      <td>0.865285</td>\n      <td>1.0</td>\n      <td>-1.0</td>\n      <td>1.000000</td>\n      <td>0.500000</td>\n      <td>b'\\x01\\x03\\x00\\x00\\x00\\x01\\x00\\x00\\x00\\x05\\x00...</td>\n    </tr>\n  </tbody>\n</table>\n<p>295772 rows × 238 columns</p>\n</div>"
     },
     "execution_count": 6,
     "metadata": {},
     "output_type": "execute_result"
    }
   ],
   "source": [
    "import pandas as pd\n",
    "df_p = pd.read_parquet('100m.parquet', engine='pyarrow')\n",
    "df_p"
   ],
   "metadata": {
    "collapsed": false,
    "pycharm": {
     "name": "#%%\n"
    }
   }
  },
  {
   "cell_type": "code",
   "execution_count": 7,
   "outputs": [
    {
     "data": {
      "text/plain": "<Figure size 720x288 with 2 Axes>",
      "image/png": "[encoded data removed]"
     },
     "metadata": {
      "needs_background": "light"
     },
     "output_type": "display_data"
    }
   ],
   "source": [
    "df_p = df_p.loc[:, (df_p != 0).any(axis=0)] #wycinanie pustych kolumn\n",
    "msno.matrix(df_p, figsize=(10,4)) # test pustych wierszy\n",
    "df_p =df_p.fillna(0) # wypełnianie Nan zerami"
   ],
   "metadata": {
    "collapsed": false,
    "pycharm": {
     "name": "#%%\n"
    }
   }
  },
  {
   "cell_type": "code",
   "execution_count": null,
   "outputs": [],
   "source": [
    "df_p.describe().transpose()"
   ],
   "metadata": {
    "collapsed": false,
    "pycharm": {
     "name": "#%%\n",
     "is_executing": true
    }
   }
  },
  {
   "cell_type": "code",
   "execution_count": 9,
   "outputs": [
    {
     "data": {
      "text/plain": "   fid       id  name  crossp_pft  ctrlpntp_p    admarea_af  admbndl_lf  \\\n0  1.0  7515927     0         0.0         0.0  10004.043152         0.0   \n1  2.0  7515929     0         0.0         0.0  10004.058116         0.0   \n2  3.0  7922649     0         0.0         0.0   9968.171990         0.0   \n3  4.0  7515930     0         0.0         0.0  10004.065605         0.0   \n4  5.0  7922652     0         0.0         0.0   9968.190629         0.0   \n\n   airportp_p  athlflda_a  bamboop_pf  ...  przej_ws_1  przej_ws_2  \\\n0         0.0         0.0         0.0  ...    0.770394        -1.0   \n1         0.0         0.0         0.0  ...    0.418342        -1.0   \n2         0.0         0.0         0.0  ...    0.635198        -1.0   \n3         0.0         0.0         0.0  ...    0.403380        -1.0   \n4         0.0         0.0         0.0  ...    0.554731        -1.0   \n\n   przej_ws_3  przej_ws_4  przej_ws_5  przej_ws_6  przej_ws_7  przej_ws_8  \\\n0    0.111801    0.983850    0.843433         1.0        -1.0    0.958834   \n1    0.180419    0.276239    0.831914         1.0        -1.0    1.000000   \n2    0.190709    0.657922    0.883413         1.0        -1.0    1.000000   \n3    0.111801    0.276238    0.854727         1.0        -1.0    1.000000   \n4    0.111801    0.697345    0.892642         1.0        -1.0    0.753210   \n\n   przej_ws_9                                           geometry  \n0    0.469788  b'\\x01\\x03\\x00\\x00\\x00\\x01\\x00\\x00\\x00\\x05\\x00...  \n1   -0.798214  b'\\x01\\x03\\x00\\x00\\x00\\x01\\x00\\x00\\x00\\x05\\x00...  \n2   -0.114583  b'\\x01\\x03\\x00\\x00\\x00\\x01\\x00\\x00\\x00\\x05\\x00...  \n3   -0.800000  b'\\x01\\x03\\x00\\x00\\x00\\x01\\x00\\x00\\x00\\x05\\x00...  \n4   -0.052822  b'\\x01\\x03\\x00\\x00\\x00\\x01\\x00\\x00\\x00\\x05\\x00...  \n\n[5 rows x 130 columns]",
      "text/html": "<div>\n<style scoped>\n    .dataframe tbody tr th:only-of-type {\n        vertical-align: middle;\n    }\n\n    .dataframe tbody tr th {\n        vertical-align: top;\n    }\n\n    .dataframe thead th {\n        text-align: right;\n    }\n</style>\n<table border=\"1\" class=\"dataframe\">\n  <thead>\n    <tr style=\"text-align: right;\">\n      <th></th>\n      <th>fid</th>\n      <th>id</th>\n      <th>name</th>\n      <th>crossp_pft</th>\n      <th>ctrlpntp_p</th>\n      <th>admarea_af</th>\n      <th>admbndl_lf</th>\n      <th>airportp_p</th>\n      <th>athlflda_a</th>\n      <th>bamboop_pf</th>\n      <th>...</th>\n      <th>przej_ws_1</th>\n      <th>przej_ws_2</th>\n      <th>przej_ws_3</th>\n      <th>przej_ws_4</th>\n      <th>przej_ws_5</th>\n      <th>przej_ws_6</th>\n      <th>przej_ws_7</th>\n      <th>przej_ws_8</th>\n      <th>przej_ws_9</th>\n      <th>geometry</th>\n    </tr>\n  </thead>\n  <tbody>\n    <tr>\n      <th>0</th>\n      <td>1.0</td>\n      <td>7515927</td>\n      <td>0</td>\n      <td>0.0</td>\n      <td>0.0</td>\n      <td>10004.043152</td>\n      <td>0.0</td>\n      <td>0.0</td>\n      <td>0.0</td>\n      <td>0.0</td>\n      <td>...</td>\n      <td>0.770394</td>\n      <td>-1.0</td>\n      <td>0.111801</td>\n      <td>0.983850</td>\n      <td>0.843433</td>\n      <td>1.0</td>\n      <td>-1.0</td>\n      <td>0.958834</td>\n      <td>0.469788</td>\n      <td>b'\\x01\\x03\\x00\\x00\\x00\\x01\\x00\\x00\\x00\\x05\\x00...</td>\n    </tr>\n    <tr>\n      <th>1</th>\n      <td>2.0</td>\n      <td>7515929</td>\n      <td>0</td>\n      <td>0.0</td>\n      <td>0.0</td>\n      <td>10004.058116</td>\n      <td>0.0</td>\n      <td>0.0</td>\n      <td>0.0</td>\n      <td>0.0</td>\n      <td>...</td>\n      <td>0.418342</td>\n      <td>-1.0</td>\n      <td>0.180419</td>\n      <td>0.276239</td>\n      <td>0.831914</td>\n      <td>1.0</td>\n      <td>-1.0</td>\n      <td>1.000000</td>\n      <td>-0.798214</td>\n      <td>b'\\x01\\x03\\x00\\x00\\x00\\x01\\x00\\x00\\x00\\x05\\x00...</td>\n    </tr>\n    <tr>\n      <th>2</th>\n      <td>3.0</td>\n      <td>7922649</td>\n      <td>0</td>\n      <td>0.0</td>\n      <td>0.0</td>\n      <td>9968.171990</td>\n      <td>0.0</td>\n      <td>0.0</td>\n      <td>0.0</td>\n      <td>0.0</td>\n      <td>...</td>\n      <td>0.635198</td>\n      <td>-1.0</td>\n      <td>0.190709</td>\n      <td>0.657922</td>\n      <td>0.883413</td>\n      <td>1.0</td>\n      <td>-1.0</td>\n      <td>1.000000</td>\n      <td>-0.114583</td>\n      <td>b'\\x01\\x03\\x00\\x00\\x00\\x01\\x00\\x00\\x00\\x05\\x00...</td>\n    </tr>\n    <tr>\n      <th>3</th>\n      <td>4.0</td>\n      <td>7515930</td>\n      <td>0</td>\n      <td>0.0</td>\n      <td>0.0</td>\n      <td>10004.065605</td>\n      <td>0.0</td>\n      <td>0.0</td>\n      <td>0.0</td>\n      <td>0.0</td>\n      <td>...</td>\n      <td>0.403380</td>\n      <td>-1.0</td>\n      <td>0.111801</td>\n      <td>0.276238</td>\n      <td>0.854727</td>\n      <td>1.0</td>\n      <td>-1.0</td>\n      <td>1.000000</td>\n      <td>-0.800000</td>\n      <td>b'\\x01\\x03\\x00\\x00\\x00\\x01\\x00\\x00\\x00\\x05\\x00...</td>\n    </tr>\n    <tr>\n      <th>4</th>\n      <td>5.0</td>\n      <td>7922652</td>\n      <td>0</td>\n      <td>0.0</td>\n      <td>0.0</td>\n      <td>9968.190629</td>\n      <td>0.0</td>\n      <td>0.0</td>\n      <td>0.0</td>\n      <td>0.0</td>\n      <td>...</td>\n      <td>0.554731</td>\n      <td>-1.0</td>\n      <td>0.111801</td>\n      <td>0.697345</td>\n      <td>0.892642</td>\n      <td>1.0</td>\n      <td>-1.0</td>\n      <td>0.753210</td>\n      <td>-0.052822</td>\n      <td>b'\\x01\\x03\\x00\\x00\\x00\\x01\\x00\\x00\\x00\\x05\\x00...</td>\n    </tr>\n  </tbody>\n</table>\n<p>5 rows × 130 columns</p>\n</div>"
     },
     "execution_count": 9,
     "metadata": {},
     "output_type": "execute_result"
    }
   ],
   "source": [
    "df_p.head()"
   ],
   "metadata": {
    "collapsed": false,
    "pycharm": {
     "name": "#%%\n"
    }
   }
  },
  {
   "cell_type": "code",
   "execution_count": 10,
   "outputs": [
    {
     "data": {
      "text/plain": "(295772, 130)"
     },
     "execution_count": 10,
     "metadata": {},
     "output_type": "execute_result"
    }
   ],
   "source": [
    "df_p.shape"
   ],
   "metadata": {
    "collapsed": false,
    "pycharm": {
     "name": "#%%\n"
    }
   }
  },
  {
   "cell_type": "code",
   "execution_count": 11,
   "outputs": [
    {
     "data": {
      "text/plain": "['fid',\n 'id',\n 'name',\n 'crossp_pft',\n 'ctrlpntp_p',\n 'admarea_af',\n 'admbndl_lf',\n 'airportp_p',\n 'athlflda_a',\n 'bamboop_pf',\n 'beachl_lft',\n 'bluffl_lft',\n 'bndmontp_p',\n 'boulderp_p',\n 'bridgec_pf',\n 'bridgel_lf',\n 'buildnga_a',\n 'buildngp_p',\n 'cultxt_pft',\n 'builtupa_a',\n 'cairnp_pft',\n 'campsita_a',\n 'cartracl_l',\n 'cemetrya_a',\n 'cemetryp_p',\n 'chimneyp_p',\n 'cisternp_p',\n 'clearwa_af',\n 'clearwl_lf',\n 'commbldp_p',\n 'commtwrp_p',\n 'contourl_l',\n 'curflowp_p',\n 'cutl_lft',\n 'damc_pft',\n 'depota_aft',\n 'depressl_l',\n 'depressp_p',\n 'depthcl_lf',\n 'disposa_af',\n 'ditchl_lft',\n 'drditchl_l',\n 'elevp_pft',\n 'embankl_lf',\n 'farmp_pft',\n 'fencel_lft',\n 'firernga_a',\n 'fishfrma_a',\n 'fordc_pft',\n 'foresta_af',\n 'forestl_lf',\n 'forestp_pf',\n 'grassa_aft',\n 'grdelema_a',\n 'gullyl_lft',\n 'hedgel_lft',\n 'hutp_pft',\n 'hydrotxt_p',\n 'inlandp_pf',\n 'islanda_af',\n 'lakea_aft',\n 'landsldp_p',\n 'monumntp_p',\n 'orchara_af',\n 'parka_aft',\n 'phystxt_pf',\n 'piera_aft',\n 'pita_aft',\n 'pitp_pft',\n 'plazaa_aft',\n 'procplta_a',\n 'procpltp_p',\n 'pumpsta_af',\n 'pumpstc_pf',\n 'pwrlinel_l',\n 'pylonc_pft',\n 'railrdl_lf',\n 'railsidl_l',\n 'railtrnp_p',\n 'reservra_a',\n 'rivcharc_p',\n 'rivcharl_l',\n 'rivera_aft',\n 'riverl_lft',\n 'roadl_lft',\n 'sanctrya_a',\n 'scruba_aft',\n 'scrubp_pft',\n 'stadiuma_a',\n 'substata_a',\n 'substatp_p',\n 'swampa_aft',\n 'swampp_pft',\n 'tankp_pft',\n 'tidegaup_p',\n 'towerncp_p',\n 'traill_lft',\n 'treesp_pft',\n 'uwdangra_a',\n 'vegtxt_pft',\n 'vehiclea_a',\n 'walll_lft',\n 'wellp_pft',\n 'wellsprp_p',\n 'wtowerp_pf',\n 'gleby_glin',\n 'gleby_mady',\n 'gleby_pias',\n 'gleby_torf',\n '_dtedl1',\n '_dtedl1spa',\n 'odl0roadl_',\n 'odl0forest',\n 'odl0builtu',\n 'odl0railrd',\n 'odl0farmp_',\n 'z_trudnopr',\n 'z_nieprzej',\n 'przejezdno']"
     },
     "execution_count": 11,
     "metadata": {},
     "output_type": "execute_result"
    }
   ],
   "source": [
    "df_p.columns.to_list()[:-11]"
   ],
   "metadata": {
    "collapsed": false,
    "pycharm": {
     "name": "#%%\n"
    }
   }
  },
  {
   "cell_type": "code",
   "execution_count": 12,
   "outputs": [
    {
     "data": {
      "text/plain": "((295772, 118), (295772,))"
     },
     "execution_count": 12,
     "metadata": {},
     "output_type": "execute_result"
    }
   ],
   "source": [
    "#normalizacja\n",
    "X = df_p.iloc[:,:-12]\n",
    "X = MinMaxScaler().fit_transform(X)\n",
    "y = df_p['przej_wsp_']\n",
    "X.shape, y.shape"
   ],
   "metadata": {
    "collapsed": false,
    "pycharm": {
     "name": "#%%\n"
    }
   }
  },
  {
   "cell_type": "code",
   "execution_count": 13,
   "outputs": [],
   "source": [
    "X_train, X_test, y_train, y_test  = train_test_split(X, y, random_state=42, test_size=.2)"
   ],
   "metadata": {
    "collapsed": false,
    "pycharm": {
     "name": "#%%\n"
    }
   }
  },
  {
   "cell_type": "code",
   "execution_count": 14,
   "outputs": [
    {
     "data": {
      "text/plain": "((236617, 118), (59155, 118), (236617,), (59155,))"
     },
     "execution_count": 14,
     "metadata": {},
     "output_type": "execute_result"
    }
   ],
   "source": [
    "X_train.shape, X_test.shape, y_train.shape, y_test.shape"
   ],
   "metadata": {
    "collapsed": false,
    "pycharm": {
     "name": "#%%\n"
    }
   }
  },
  {
   "cell_type": "code",
   "execution_count": null,
   "outputs": [
    {
     "name": "stdout",
     "output_type": "stream",
     "text": [
      "Trial 5 Complete [00h 23m 03s]\n",
      "val_loss: 0.01152543630450964\n",
      "\n",
      "Best val_loss So Far: 0.01152543630450964\n",
      "Total elapsed time: 01h 35m 51s\n",
      "\n",
      "Search: Running Trial #6\n",
      "\n",
      "Value             |Best Value So Far |Hyperparameter\n",
      "True              |True              |structured_data_block_1/normalize\n",
      "False             |False             |structured_data_block_1/dense_block_1/use_batchnorm\n",
      "3                 |3                 |structured_data_block_1/dense_block_1/num_layers\n",
      "32                |32                |structured_data_block_1/dense_block_1/units_0\n",
      "0                 |0                 |structured_data_block_1/dense_block_1/dropout\n",
      "16                |32                |structured_data_block_1/dense_block_1/units_1\n",
      "0                 |0                 |regression_head_1/dropout\n",
      "adam              |adam              |optimizer\n",
      "0.001             |0.001             |learning_rate\n",
      "32                |32                |structured_data_block_1/dense_block_1/units_2\n",
      "\n"
     ]
    }
   ],
   "source": [
    "reg = ak.StructuredDataRegressor(\n",
    "    overwrite=True, max_trials=10, loss='mae'\n",
    ")\n",
    "result = reg.fit(\n",
    "    X_train,\n",
    "    y_train,\n",
    "    epochs=30,\n",
    "    validation_split=.2\n",
    ")"
   ],
   "metadata": {
    "collapsed": false,
    "pycharm": {
     "name": "#%%\n",
     "is_executing": true
    }
   }
  },
  {
   "cell_type": "code",
   "execution_count": null,
   "outputs": [],
   "source": [
    "df1 = pd.DataFrame(result.history)\n",
    "df1.plot()"
   ],
   "metadata": {
    "collapsed": false,
    "pycharm": {
     "name": "#%%\n",
     "is_executing": true
    }
   }
  },
  {
   "cell_type": "code",
   "execution_count": null,
   "outputs": [],
   "source": [
    "# Predict with the best model.\n",
    "predicted_y = reg.predict(X_test)\n",
    "# Evaluate the best model with testing data.\n",
    "loss, acc = reg.evaluate(X_test, y_test)\n",
    "loss, acc"
   ],
   "metadata": {
    "collapsed": false,
    "pycharm": {
     "name": "#%%\n",
     "is_executing": true
    }
   }
  },
  {
   "cell_type": "code",
   "execution_count": null,
   "outputs": [],
   "source": [
    "from sklearn.metrics import r2_score"
   ],
   "metadata": {
    "collapsed": false,
    "pycharm": {
     "name": "#%%\n",
     "is_executing": true
    }
   }
  },
  {
   "cell_type": "code",
   "execution_count": null,
   "outputs": [],
   "source": [
    "df1 = pd.DataFrame(result.history)"
   ],
   "metadata": {
    "collapsed": false,
    "pycharm": {
     "name": "#%%\n",
     "is_executing": true
    }
   }
  },
  {
   "cell_type": "code",
   "execution_count": null,
   "outputs": [],
   "source": [
    "model = reg.export_model()\n",
    "model.summary()"
   ],
   "metadata": {
    "collapsed": false,
    "pycharm": {
     "name": "#%%\n",
     "is_executing": true
    }
   }
  },
  {
   "cell_type": "code",
   "execution_count": null,
   "outputs": [],
   "source": [
    "loss, acc = model.evaluate(X_test,y_test, verbose=0)\n",
    "loss, acc"
   ],
   "metadata": {
    "collapsed": false,
    "pycharm": {
     "name": "#%%\n",
     "is_executing": true
    }
   }
  },
  {
   "cell_type": "code",
   "execution_count": null,
   "outputs": [],
   "source": [
    "from keras.models import Sequential\n",
    "from keras.layers import Dense\n",
    "from tensorflow.keras.utils import plot_model\n",
    "plot_model(model, to_file='model_plot.png', show_shapes=True, show_layer_names=True)"
   ],
   "metadata": {
    "collapsed": false,
    "pycharm": {
     "name": "#%%\n",
     "is_executing": true
    }
   }
  },
  {
   "cell_type": "code",
   "execution_count": null,
   "outputs": [],
   "source": [
    "!pip install visualkeras"
   ],
   "metadata": {
    "collapsed": false,
    "pycharm": {
     "name": "#%%\n",
     "is_executing": true
    }
   }
  },
  {
   "cell_type": "code",
   "execution_count": null,
   "outputs": [],
   "source": [
    "import visualkeras\n",
    "from tensorflow.keras import layers\n",
    "from collections import defaultdict\n",
    "color_map = defaultdict(dict) #customize the colours\n",
    "color_map[layers.Conv2D]['fill'] = '#00f5d4'\n",
    "color_map[layers.MaxPooling2D]['fill'] = '#8338ec'\n",
    "color_map[layers.Dropout]['fill'] = '#03045e'\n",
    "color_map[layers.Dense]['fill'] = '#fb5607'\n",
    "color_map[layers.Flatten]['fill'] = '#ffbe0b'\n",
    "visualkeras.layered_view(model, legend=True, color_map=color_map)"
   ],
   "metadata": {
    "collapsed": false,
    "pycharm": {
     "name": "#%%\n",
     "is_executing": true
    }
   }
  },
  {
   "cell_type": "code",
   "execution_count": null,
   "outputs": [],
   "source": [
    "# visualkeras.layered_view(model, legend=True) # without custom font\n",
    "from PIL import ImageFont\n",
    "visualkeras.layered_view(model, legend=True,draw_volume=True,spacing=30) # selected font"
   ],
   "metadata": {
    "collapsed": false,
    "pycharm": {
     "name": "#%%\n",
     "is_executing": true
    }
   }
  },
  {
   "cell_type": "code",
   "execution_count": null,
   "outputs": [],
   "source": [],
   "metadata": {
    "collapsed": false,
    "pycharm": {
     "name": "#%%\n"
    }
   }
  }
 ],
 "metadata": {
  "kernelspec": {
   "display_name": "Python 3",
   "language": "python",
   "name": "python3"
  },
  "language_info": {
   "codemirror_mode": {
    "name": "ipython",
    "version": 2
   },
   "file_extension": ".py",
   "mimetype": "text/x-python",
   "name": "python",
   "nbconvert_exporter": "python",
   "pygments_lexer": "ipython2",
   "version": "2.7.6"
  }
 },
 "nbformat": 4,
 "nbformat_minor": 0
}